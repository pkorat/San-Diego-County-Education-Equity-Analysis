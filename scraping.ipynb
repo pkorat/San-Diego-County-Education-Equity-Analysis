{
 "cells": [
  {
   "cell_type": "code",
   "execution_count": 1,
   "source": [
    "# Parth korat\r\n",
    "from bs4 import BeautifulSoup as bs\r\n",
    "import requests\r\n",
    "from splinter import Browser\r\n",
    "from webdriver_manager.chrome import ChromeDriverManager\r\n",
    "import pandas as pd"
   ],
   "outputs": [],
   "metadata": {}
  },
  {
   "cell_type": "code",
   "execution_count": 2,
   "source": [
    "# Setup splinter\r\n",
    "executable_path = {'executable_path': ChromeDriverManager().install()}\r\n",
    "browser = Browser('chrome', **executable_path, headless=False)"
   ],
   "outputs": [
    {
     "output_type": "stream",
     "name": "stderr",
     "text": [
      "\n",
      "\n",
      "====== WebDriver manager ======\n",
      "Current google-chrome version is 92.0.4515\n",
      "Get LATEST driver version for 92.0.4515\n",
      "Driver [C:\\Users\\parth\\.wdm\\drivers\\chromedriver\\win32\\92.0.4515.107\\chromedriver.exe] found in cache\n"
     ]
    }
   ],
   "metadata": {}
  },
  {
   "cell_type": "code",
   "execution_count": 3,
   "source": [
    "# Visit the URL with San Diego County zip codes\r\n",
    "url = 'https://www.zillow.com/browse/homes/ca/san-diego-county/'\r\n",
    "browser.visit(url)"
   ],
   "outputs": [],
   "metadata": {}
  },
  {
   "cell_type": "code",
   "execution_count": 4,
   "source": [
    "html = browser.html\r\n",
    "soup = bs(html, 'html.parser')"
   ],
   "outputs": [],
   "metadata": {}
  },
  {
   "cell_type": "code",
   "execution_count": 5,
   "source": [
    "# find 'ul' tag with the class 'bh-body-links' tag that contains all zip codes\r\n",
    "ul =soup.find('ul', class_='bh-body-links')\r\n",
    "\r\n",
    "zip_codes = []\r\n",
    "\r\n",
    "# find the 'li' tag and get all children under the tag\r\n",
    "zip_code_tags = ul.findChildren('li', recursive=False)\r\n",
    "\r\n",
    "# run a for loop to get all zip codes, then append to zip_codes list\r\n",
    "for zip_code_tag in zip_code_tags:\r\n",
    "    zip_codes.append(zip_code_tag.text.strip('\\n'))\r\n",
    "\r\n",
    "# show first 5 zip codes from the scrape\r\n",
    "zip_codes[:5]"
   ],
   "outputs": [
    {
     "output_type": "execute_result",
     "data": {
      "text/plain": [
       "['91910', '92101', '92126', '91911', '92592']"
      ]
     },
     "metadata": {},
     "execution_count": 5
    }
   ],
   "metadata": {}
  },
  {
   "cell_type": "code",
   "execution_count": 6,
   "source": [
    "# create dictionary with the 'San Diego County Zip Codes' as the key and the zip_codes list as the values\r\n",
    "dict_zip_codes = {'San Diego County Zip Codes': zip_codes}\r\n",
    "\r\n",
    "# read the dictionary as a DataFrame object\r\n",
    "zip_codes_df = pd.DataFrame(dict_zip_codes)\r\n",
    "\r\n",
    "len(zip_codes_df)"
   ],
   "outputs": [
    {
     "output_type": "execute_result",
     "data": {
      "text/plain": [
       "192"
      ]
     },
     "metadata": {},
     "execution_count": 6
    }
   ],
   "metadata": {}
  },
  {
   "cell_type": "code",
   "execution_count": 7,
   "source": [
    "url_2 = 'https://www.greatschools.org/california/schools/?gradeLevels%5B%5D=e&gradeLevels \\\r\n",
    "        %5B%5D=p&gradeLevels%5B%5D=m&gradeLevels%5B%5D=h&tableView=Overview&view=table'\r\n",
    "browser.visit(url_2)"
   ],
   "outputs": [],
   "metadata": {}
  },
  {
   "cell_type": "code",
   "execution_count": 8,
   "source": [
    "html_2 = browser.html\r\n",
    "soup_2 = bs(html_2, 'html.parser')"
   ],
   "outputs": [],
   "metadata": {}
  },
  {
   "cell_type": "code",
   "execution_count": null,
   "source": [],
   "outputs": [],
   "metadata": {}
  }
 ],
 "metadata": {
  "orig_nbformat": 4,
  "language_info": {
   "name": "python",
   "version": "3.8.8",
   "mimetype": "text/x-python",
   "codemirror_mode": {
    "name": "ipython",
    "version": 3
   },
   "pygments_lexer": "ipython3",
   "nbconvert_exporter": "python",
   "file_extension": ".py"
  },
  "kernelspec": {
   "name": "python3",
   "display_name": "Python 3.8.8 64-bit ('base': conda)"
  },
  "interpreter": {
   "hash": "5d95a783a95b3199ac64745f9965687ba8ceaeb0768726c54472dc78d5b76bcc"
  }
 },
 "nbformat": 4,
 "nbformat_minor": 2
}