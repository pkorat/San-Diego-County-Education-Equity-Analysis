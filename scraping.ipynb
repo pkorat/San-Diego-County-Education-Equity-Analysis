{
 "cells": [
  {
   "cell_type": "code",
   "execution_count": 1,
   "source": [
    "# Parth korat\r\n",
    "from bs4 import BeautifulSoup as bs\r\n",
    "import requests\r\n",
    "from splinter import Browser\r\n",
    "from webdriver_manager.chrome import ChromeDriverManager\r\n",
    "import pandas as pd\r\n",
    "import math"
   ],
   "outputs": [],
   "metadata": {}
  },
  {
   "cell_type": "code",
   "execution_count": 2,
   "source": [
    "# Setup splinter\r\n",
    "executable_path = {'executable_path': ChromeDriverManager().install()}\r\n",
    "browser = Browser('chrome', **executable_path, headless=False)"
   ],
   "outputs": [
    {
     "output_type": "stream",
     "name": "stderr",
     "text": [
      "\n",
      "\n",
      "====== WebDriver manager ======\n",
      "Current google-chrome version is 93.0.4577\n",
      "Get LATEST driver version for 93.0.4577\n",
      "Driver [C:\\Users\\parth\\.wdm\\drivers\\chromedriver\\win32\\93.0.4577.15\\chromedriver.exe] found in cache\n"
     ]
    }
   ],
   "metadata": {}
  },
  {
   "cell_type": "code",
   "execution_count": 3,
   "source": [
    "# Visit the URL with San Diego County zip codes\r\n",
    "url = 'https://www.zillow.com/browse/homes/ca/san-diego-county/'\r\n",
    "browser.visit(url)"
   ],
   "outputs": [],
   "metadata": {}
  },
  {
   "cell_type": "code",
   "execution_count": 4,
   "source": [
    "html = browser.html\r\n",
    "soup = bs(html, 'html.parser')"
   ],
   "outputs": [],
   "metadata": {}
  },
  {
   "cell_type": "code",
   "execution_count": 5,
   "source": [
    "# find 'ul' tag with the class 'bh-body-links' tag that contains all zip codes\r\n",
    "ul =soup.find('ul', class_='bh-body-links')\r\n",
    "\r\n",
    "sd_zip_codes = []\r\n",
    "\r\n",
    "# find the 'li' tag and get all children under the tag\r\n",
    "zip_code_tags = ul.findChildren('li', recursive=False)\r\n",
    "\r\n",
    "# run a for loop to get all zip codes, then append to zip_codes list\r\n",
    "for zip_code_tag in zip_code_tags:\r\n",
    "    sd_zip_codes.append(zip_code_tag.text.strip('\\n'))\r\n",
    "\r\n",
    "# show first 5 zip codes from the scrape\r\n",
    "sd_zip_codes[:5]"
   ],
   "outputs": [
    {
     "output_type": "execute_result",
     "data": {
      "text/plain": [
       "['91910', '92101', '92126', '91911', '92592']"
      ]
     },
     "metadata": {},
     "execution_count": 5
    }
   ],
   "metadata": {}
  },
  {
   "cell_type": "code",
   "execution_count": 6,
   "source": [
    "# create dictionary with the 'San Diego County Zip Codes' as the key and the zip_codes list as the values\r\n",
    "dict_zip_codes = {'San Diego County Zip Codes': sd_zip_codes}\r\n",
    "\r\n",
    "# read the dictionary as a DataFrame object\r\n",
    "zip_codes_df = pd.DataFrame(dict_zip_codes)\r\n",
    "\r\n",
    "len(zip_codes_df)"
   ],
   "outputs": [
    {
     "output_type": "execute_result",
     "data": {
      "text/plain": [
       "192"
      ]
     },
     "metadata": {},
     "execution_count": 6
    }
   ],
   "metadata": {}
  },
  {
   "cell_type": "code",
   "execution_count": 7,
   "source": [
    "start = 'https://www.greatschools.org/california/schools/?gradeLevels%5B%5D=e&gradeLevels%5B%5D=m&gradeLevels%5B%5D=h&gradeLevels%5B%5D=p&st%5B%5D=public_charter&st%5B%5D=public&st%5B%5D=charter&tableView=Overview&view=table'\r\n",
    "loop_page = start + '&page={}'\r\n",
    "\r\n",
    "browser.visit(start)"
   ],
   "outputs": [],
   "metadata": {}
  },
  {
   "cell_type": "code",
   "execution_count": 8,
   "source": [
    "html_2 = browser.html\r\n",
    "soup_2 = bs(html_2, 'html.parser')"
   ],
   "outputs": [],
   "metadata": {}
  },
  {
   "cell_type": "code",
   "execution_count": 9,
   "source": [
    "# find the number of pages for scrapping\r\n",
    "all_schools = int(soup_2.find('div', class_='pagination-summary').text.split(' ')[5].replace(',', ''))\r\n",
    "pages = int(math.ceil(all_schools / 25))"
   ],
   "outputs": [],
   "metadata": {}
  },
  {
   "cell_type": "code",
   "execution_count": 10,
   "source": [
    "# initalize the dictionary to hold the values\r\n",
    "schools = {\r\n",
    "    'School Name': [],\r\n",
    "    'School Rating': [],\r\n",
    "    'School Address': [],\r\n",
    "    'Zip Code': [],\r\n",
    "    'Grades': [],\r\n",
    "    'Total Students Enrolled': [],\r\n",
    "    'Students Per Teacher': [],\r\n",
    "    'District': []\r\n",
    "}"
   ],
   "outputs": [],
   "metadata": {}
  },
  {
   "cell_type": "code",
   "execution_count": 11,
   "source": [
    "for page in range(1, pages):\r\n",
    "\r\n",
    "    browser.visit(loop_page.format(page))\r\n",
    "    soup_page = bs(browser.html, 'html.parser')\r\n",
    "        \r\n",
    "    # find the 'table' tag that includes all schools\r\n",
    "    table = soup_page.find('table')\r\n",
    "\r\n",
    "    # get the 'tbody' tag that is a child of the table tag\r\n",
    "    tbody = table.findChild('tbody')\r\n",
    "\r\n",
    "    # within the tbody tag there are multiple 'tr' tags that contain one school each on that page\r\n",
    "    school_tags = tbody.findChildren('tr', recursive=False)\r\n",
    "    \r\n",
    "    # loop through the list and append the zip code from address to a list\r\n",
    "    for school_tag in school_tags:\r\n",
    "\r\n",
    "        # core includes the name, rating, and address of the school\r\n",
    "        core = school_tag.findChildren('td')[0]\r\n",
    "\r\n",
    "        # find name in the core\r\n",
    "        name = core.find('a', class_='name').text\r\n",
    "        \r\n",
    "        # find rating in the core\r\n",
    "        rating = core.find('span', class_='tipso_style').text.split('/')[0]\r\n",
    "        \r\n",
    "        # find address in the core\r\n",
    "        address = core.find('div', class_='address').text\r\n",
    "\r\n",
    "        # find rest of the data in the table by indexing\r\n",
    "        district_type = school_tag.findChildren('td')[1].text\r\n",
    "        grades = school_tag.findChildren('td')[2].text\r\n",
    "        num_students = school_tag.findChildren('td')[3].text\r\n",
    "        stu_teach_ratio = school_tag.findChildren('td')[4].text\r\n",
    "        district = school_tag.findChildren('td')[6].text\r\n",
    "\r\n",
    "        # strip the address by the comma and get the last item in the list to get the zip\r\n",
    "        current_zip = address.split(',')[-1].strip(' ')\r\n",
    "\r\n",
    "        # clean address\r\n",
    "        mod_address = address.replace(', CA, ' + current_zip,'')\r\n",
    "        \r\n",
    "        if current_zip in sd_zip_codes and rating != 'Currently unrated':\r\n",
    "            schools['School Name'].append(name)\r\n",
    "            schools['School Rating'].append(rating)\r\n",
    "            schools['School Address'].append(mod_address)\r\n",
    "            schools['Zip Code'].append(current_zip)\r\n",
    "            schools['Grades'].append(grades)\r\n",
    "            schools['Total Students Enrolled'].append(num_students)\r\n",
    "            schools['Students Per Teacher'].append(stu_teach_ratio)\r\n",
    "            schools['District'].append(district)\r\n",
    "        else:\r\n",
    "            exit()\r\n",
    "\r\n",
    "public_schools = pd.DataFrame(schools)\r\n",
    "public_schools"
   ],
   "outputs": [
    {
     "output_type": "execute_result",
     "data": {
      "text/html": [
       "<div>\n",
       "<style scoped>\n",
       "    .dataframe tbody tr th:only-of-type {\n",
       "        vertical-align: middle;\n",
       "    }\n",
       "\n",
       "    .dataframe tbody tr th {\n",
       "        vertical-align: top;\n",
       "    }\n",
       "\n",
       "    .dataframe thead th {\n",
       "        text-align: right;\n",
       "    }\n",
       "</style>\n",
       "<table border=\"1\" class=\"dataframe\">\n",
       "  <thead>\n",
       "    <tr style=\"text-align: right;\">\n",
       "      <th></th>\n",
       "      <th>School Name</th>\n",
       "      <th>School Rating</th>\n",
       "      <th>School Address</th>\n",
       "      <th>Zip Code</th>\n",
       "      <th>Grades</th>\n",
       "      <th>Total Students Enrolled</th>\n",
       "      <th>Students Per Teacher</th>\n",
       "      <th>District</th>\n",
       "    </tr>\n",
       "  </thead>\n",
       "  <tbody>\n",
       "    <tr>\n",
       "      <th>0</th>\n",
       "      <td>Maac Community Charter School</td>\n",
       "      <td>1</td>\n",
       "      <td>1385 Third Avenue, Chula Vista</td>\n",
       "      <td>91911</td>\n",
       "      <td>9-12</td>\n",
       "      <td>201</td>\n",
       "      <td>21:1</td>\n",
       "      <td>Sweetwater Union High</td>\n",
       "    </tr>\n",
       "    <tr>\n",
       "      <th>1</th>\n",
       "      <td>SIATech School</td>\n",
       "      <td>1</td>\n",
       "      <td>2611 Temple Heights Drive, Suite A, Oceanside</td>\n",
       "      <td>92056</td>\n",
       "      <td>11-12</td>\n",
       "      <td>1137</td>\n",
       "      <td>22:1</td>\n",
       "      <td>Vista Unified</td>\n",
       "    </tr>\n",
       "    <tr>\n",
       "      <th>2</th>\n",
       "      <td>Urban Corps of San Diego County Charter</td>\n",
       "      <td>1</td>\n",
       "      <td>3127 Jefferson Street, San Diego</td>\n",
       "      <td>92110</td>\n",
       "      <td>9-12</td>\n",
       "      <td>285</td>\n",
       "      <td>20:1</td>\n",
       "      <td>Mono County Office of Education</td>\n",
       "    </tr>\n",
       "    <tr>\n",
       "      <th>3</th>\n",
       "      <td>Diego Hills Central Public Charter</td>\n",
       "      <td>1</td>\n",
       "      <td>4585 College Avenue, San Diego</td>\n",
       "      <td>92115</td>\n",
       "      <td>K-12</td>\n",
       "      <td>748</td>\n",
       "      <td>19:1</td>\n",
       "      <td>Dehesa Elementary</td>\n",
       "    </tr>\n",
       "    <tr>\n",
       "      <th>4</th>\n",
       "      <td>Audeo Charter School III</td>\n",
       "      <td>1</td>\n",
       "      <td>200 East Via Rancho Parkway, Escondido</td>\n",
       "      <td>92025</td>\n",
       "      <td>6-12</td>\n",
       "      <td>88</td>\n",
       "      <td>N/A</td>\n",
       "      <td>Audeo Charter School III District</td>\n",
       "    </tr>\n",
       "    <tr>\n",
       "      <th>5</th>\n",
       "      <td>Campo High (Continuation)</td>\n",
       "      <td>1</td>\n",
       "      <td>3305 Buckman Springs Road, Pine Valley</td>\n",
       "      <td>91962</td>\n",
       "      <td>9-12</td>\n",
       "      <td>24</td>\n",
       "      <td>11:1</td>\n",
       "      <td>Mountain Empire Unified</td>\n",
       "    </tr>\n",
       "    <tr>\n",
       "      <th>6</th>\n",
       "      <td>Alta Vista High (Continuation)</td>\n",
       "      <td>1</td>\n",
       "      <td>1575 Bonair Road, Vista</td>\n",
       "      <td>92084</td>\n",
       "      <td>9-12</td>\n",
       "      <td>113</td>\n",
       "      <td>8:1</td>\n",
       "      <td>Vista Unified</td>\n",
       "    </tr>\n",
       "  </tbody>\n",
       "</table>\n",
       "</div>"
      ],
      "text/plain": [
       "                               School Name School Rating  \\\n",
       "0            Maac Community Charter School             1   \n",
       "1                           SIATech School             1   \n",
       "2  Urban Corps of San Diego County Charter             1   \n",
       "3       Diego Hills Central Public Charter             1   \n",
       "4                 Audeo Charter School III             1   \n",
       "5                Campo High (Continuation)             1   \n",
       "6           Alta Vista High (Continuation)             1   \n",
       "\n",
       "                                  School Address Zip Code Grades  \\\n",
       "0                 1385 Third Avenue, Chula Vista    91911   9-12   \n",
       "1  2611 Temple Heights Drive, Suite A, Oceanside    92056  11-12   \n",
       "2               3127 Jefferson Street, San Diego    92110   9-12   \n",
       "3                 4585 College Avenue, San Diego    92115   K-12   \n",
       "4         200 East Via Rancho Parkway, Escondido    92025   6-12   \n",
       "5         3305 Buckman Springs Road, Pine Valley    91962   9-12   \n",
       "6                        1575 Bonair Road, Vista    92084   9-12   \n",
       "\n",
       "  Total Students Enrolled Students Per Teacher  \\\n",
       "0                     201                 21:1   \n",
       "1                    1137                 22:1   \n",
       "2                     285                 20:1   \n",
       "3                     748                 19:1   \n",
       "4                      88                  N/A   \n",
       "5                      24                 11:1   \n",
       "6                     113                  8:1   \n",
       "\n",
       "                            District  \n",
       "0              Sweetwater Union High  \n",
       "1                      Vista Unified  \n",
       "2    Mono County Office of Education  \n",
       "3                  Dehesa Elementary  \n",
       "4  Audeo Charter School III District  \n",
       "5            Mountain Empire Unified  \n",
       "6                      Vista Unified  "
      ]
     },
     "metadata": {},
     "execution_count": 11
    }
   ],
   "metadata": {}
  }
 ],
 "metadata": {
  "orig_nbformat": 4,
  "language_info": {
   "name": "python",
   "version": "3.8.8",
   "mimetype": "text/x-python",
   "codemirror_mode": {
    "name": "ipython",
    "version": 3
   },
   "pygments_lexer": "ipython3",
   "nbconvert_exporter": "python",
   "file_extension": ".py"
  },
  "kernelspec": {
   "name": "python3",
   "display_name": "Python 3.8.8 64-bit"
  },
  "interpreter": {
   "hash": "5d95a783a95b3199ac64745f9965687ba8ceaeb0768726c54472dc78d5b76bcc"
  }
 },
 "nbformat": 4,
 "nbformat_minor": 2
}