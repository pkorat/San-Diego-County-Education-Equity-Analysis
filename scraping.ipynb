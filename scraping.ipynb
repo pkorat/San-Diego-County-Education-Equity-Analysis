{
 "cells": [
  {
   "cell_type": "code",
   "execution_count": 69,
   "source": [
    "# Parth korat\r\n",
    "from bs4 import BeautifulSoup as bs\r\n",
    "import requests\r\n",
    "from splinter import Browser\r\n",
    "from webdriver_manager.chrome import ChromeDriverManager\r\n",
    "import pandas as pd\r\n",
    "import math"
   ],
   "outputs": [],
   "metadata": {}
  },
  {
   "cell_type": "code",
   "execution_count": 70,
   "source": [
    "# Setup splinter\r\n",
    "executable_path = {'executable_path': ChromeDriverManager().install()}\r\n",
    "browser = Browser('chrome', **executable_path, headless=False)"
   ],
   "outputs": [
    {
     "output_type": "stream",
     "name": "stderr",
     "text": [
      "\n",
      "\n",
      "====== WebDriver manager ======\n",
      "Current google-chrome version is 93.0.4577\n",
      "Get LATEST driver version for 93.0.4577\n",
      "Driver [C:\\Users\\parth\\.wdm\\drivers\\chromedriver\\win32\\93.0.4577.15\\chromedriver.exe] found in cache\n"
     ]
    }
   ],
   "metadata": {}
  },
  {
   "cell_type": "code",
   "execution_count": 71,
   "source": [
    "# Visit the URL with San Diego County zip codes\r\n",
    "url = 'https://www.zillow.com/browse/homes/ca/san-diego-county/'\r\n",
    "browser.visit(url)"
   ],
   "outputs": [],
   "metadata": {}
  },
  {
   "cell_type": "code",
   "execution_count": 72,
   "source": [
    "html = browser.html\r\n",
    "soup = bs(html, 'html.parser')"
   ],
   "outputs": [],
   "metadata": {}
  },
  {
   "cell_type": "code",
   "execution_count": 73,
   "source": [
    "# find 'ul' tag with the class 'bh-body-links' tag that contains all zip codes\r\n",
    "ul =soup.find('ul', class_='bh-body-links')\r\n",
    "\r\n",
    "sd_zip_codes = []\r\n",
    "\r\n",
    "# find the 'li' tag and get all children under the tag\r\n",
    "zip_code_tags = ul.findChildren('li', recursive=False)\r\n",
    "\r\n",
    "# run a for loop to get all zip codes, then append to zip_codes list\r\n",
    "for zip_code_tag in zip_code_tags:\r\n",
    "    sd_zip_codes.append(zip_code_tag.text.strip('\\n'))\r\n",
    "\r\n",
    "# show first 5 zip codes from the scrape\r\n",
    "sd_zip_codes[:5]"
   ],
   "outputs": [
    {
     "output_type": "execute_result",
     "data": {
      "text/plain": [
       "['91910', '92101', '92126', '91911', '92592']"
      ]
     },
     "metadata": {},
     "execution_count": 73
    }
   ],
   "metadata": {}
  },
  {
   "cell_type": "code",
   "execution_count": 74,
   "source": [
    "# create dictionary with the 'San Diego County Zip Codes' as the key and the zip_codes list as the values\r\n",
    "dict_zip_codes = {'San Diego County Zip Codes': sd_zip_codes}\r\n",
    "\r\n",
    "# read the dictionary as a DataFrame object\r\n",
    "zip_codes_df = pd.DataFrame(dict_zip_codes)\r\n",
    "\r\n",
    "len(zip_codes_df)"
   ],
   "outputs": [
    {
     "output_type": "execute_result",
     "data": {
      "text/plain": [
       "192"
      ]
     },
     "metadata": {},
     "execution_count": 74
    }
   ],
   "metadata": {}
  },
  {
   "cell_type": "code",
   "execution_count": 75,
   "source": [
    "start = 'https://www.greatschools.org/california/schools/?gradeLevels%5B%5D=e&gradeLevels%5B%5D=m&gradeLevels%5B%5D=h&gradeLevels%5B%5D=p&st%5B%5D=public_charter&st%5B%5D=public&st%5B%5D=charter&tableView=Overview&view=table'\r\n",
    "loop_page = start + '&page={}'\r\n",
    "\r\n",
    "browser.visit(start)"
   ],
   "outputs": [],
   "metadata": {}
  },
  {
   "cell_type": "code",
   "execution_count": 76,
   "source": [
    "html_2 = browser.html\r\n",
    "soup_2 = bs(html_2, 'html.parser')"
   ],
   "outputs": [],
   "metadata": {}
  },
  {
   "cell_type": "code",
   "execution_count": 77,
   "source": [
    "# find the number of pages for scrapping\r\n",
    "all_schools = int(soup_2.find('div', class_='pagination-summary').text.split(' ')[5].replace(',', ''))\r\n",
    "pages = int(math.ceil(all_schools / 25))"
   ],
   "outputs": [],
   "metadata": {}
  },
  {
   "cell_type": "code",
   "execution_count": 78,
   "source": [
    "# initalize the dictionary to hold the values\r\n",
    "schools = {\r\n",
    "    'School Name': [],\r\n",
    "    'School Rating': [],\r\n",
    "    'School Address': [],\r\n",
    "    'City': [],\r\n",
    "    'Zip Code': [],\r\n",
    "    'Grades': [],\r\n",
    "    'Total Students Enrolled': [],\r\n",
    "    'Students Per Teacher': [],\r\n",
    "    'District': []\r\n",
    "}"
   ],
   "outputs": [],
   "metadata": {}
  },
  {
   "cell_type": "code",
   "execution_count": 79,
   "source": [
    "for page in range(1, pages):\r\n",
    "\r\n",
    "    browser.visit(loop_page.format(page))\r\n",
    "    soup_page = bs(browser.html, 'html.parser')\r\n",
    "        \r\n",
    "    # find the 'table' tag that includes all schools\r\n",
    "    table = soup_page.find('table')\r\n",
    "\r\n",
    "    # get the 'tbody' tag that is a child of the table tag\r\n",
    "    tbody = table.findChild('tbody')\r\n",
    "\r\n",
    "    # within the tbody tag there are multiple 'tr' tags that contain one school each on that page\r\n",
    "    school_tags = tbody.findChildren('tr', recursive=False)\r\n",
    "    \r\n",
    "    # loop through the list and append the zip code from address to a list\r\n",
    "    for school_tag in school_tags:\r\n",
    "\r\n",
    "        # core includes the name, rating, and address of the school\r\n",
    "        core = school_tag.findChildren('td')[0]\r\n",
    "\r\n",
    "        # find name in the core\r\n",
    "        name = core.find('a', class_='name').text\r\n",
    "        \r\n",
    "        # find rating in the core\r\n",
    "        rating = core.find('span', class_='tipso_style').text.split('/')[0]\r\n",
    "\r\n",
    "        # find address in the core\r\n",
    "        address = core.find('div', class_='address').text\r\n",
    "\r\n",
    "        # find rest of the data in the table by indexing\r\n",
    "        district_type = school_tag.findChildren('td')[1].text\r\n",
    "        grades = school_tag.findChildren('td')[2].text\r\n",
    "        num_students = school_tag.findChildren('td')[3].text\r\n",
    "        stu_teach_ratio = school_tag.findChildren('td')[4].text\r\n",
    "        district = school_tag.findChildren('td')[6].text\r\n",
    "\r\n",
    "        # strip the address by the comma and get the last item in the list to get the zip\r\n",
    "        current_zip = address.split(',')[-1].strip(' ')\r\n",
    "\r\n",
    "        # get city from address\r\n",
    "        city = address.split(',')[-3]\r\n",
    "\r\n",
    "        # clean address\r\n",
    "        mod_address = address.replace(',' + city + ', CA, ' + current_zip,'')\r\n",
    "        \r\n",
    "        if current_zip in sd_zip_codes and rating != 'Currently unrated':\r\n",
    "            schools['School Name'].append(name)\r\n",
    "            schools['School Rating'].append(rating)\r\n",
    "            schools['School Address'].append(mod_address)\r\n",
    "            schools['City'].append(city)\r\n",
    "            schools['Zip Code'].append(current_zip)\r\n",
    "            schools['Grades'].append(grades)\r\n",
    "            schools['Total Students Enrolled'].append(num_students)\r\n",
    "            schools['Students Per Teacher'].append(stu_teach_ratio)\r\n",
    "            schools['District'].append(district)\r\n",
    "        elif rating == 'Currently unrated':\r\n",
    "            break\r\n",
    "\r\n",
    "public_schools = pd.DataFrame(schools)\r\n",
    "public_schools"
   ],
   "outputs": [
    {
     "output_type": "stream",
     "name": "stdout",
     "text": [
      " Temecula\n",
      " Victorville\n",
      " Pomona\n",
      " Sacramento\n",
      " Lancaster\n",
      " Grass Valley\n",
      " El Segundo\n",
      " San Ramon\n",
      " Fresno\n",
      " Fresno\n",
      " Fresno\n",
      " Gilroy\n",
      " La Crescenta\n",
      " La Crescenta\n",
      " Hermosa Beach\n",
      " Northridge\n",
      " Los Angeles\n",
      " Los Angeles\n",
      " Santa Ana\n",
      " San Diego\n",
      " Santa Cruz\n",
      " Santa Clarita\n",
      " Santa Ana\n",
      " Stockton\n",
      " Ukiah\n"
     ]
    },
    {
     "output_type": "execute_result",
     "data": {
      "text/html": [
       "<div>\n",
       "<style scoped>\n",
       "    .dataframe tbody tr th:only-of-type {\n",
       "        vertical-align: middle;\n",
       "    }\n",
       "\n",
       "    .dataframe tbody tr th {\n",
       "        vertical-align: top;\n",
       "    }\n",
       "\n",
       "    .dataframe thead th {\n",
       "        text-align: right;\n",
       "    }\n",
       "</style>\n",
       "<table border=\"1\" class=\"dataframe\">\n",
       "  <thead>\n",
       "    <tr style=\"text-align: right;\">\n",
       "      <th></th>\n",
       "      <th>School Name</th>\n",
       "      <th>School Rating</th>\n",
       "      <th>School Address</th>\n",
       "      <th>City</th>\n",
       "      <th>Zip Code</th>\n",
       "      <th>Grades</th>\n",
       "      <th>Total Students Enrolled</th>\n",
       "      <th>Students Per Teacher</th>\n",
       "      <th>District</th>\n",
       "    </tr>\n",
       "  </thead>\n",
       "  <tbody>\n",
       "    <tr>\n",
       "      <th>0</th>\n",
       "      <td>Great Oak High</td>\n",
       "      <td>10</td>\n",
       "      <td>32555 Deer Hollow Way</td>\n",
       "      <td>Temecula</td>\n",
       "      <td>92592</td>\n",
       "      <td>9-12</td>\n",
       "      <td>3161</td>\n",
       "      <td>30:1</td>\n",
       "      <td>Temecula Valley Unified</td>\n",
       "    </tr>\n",
       "    <tr>\n",
       "      <th>1</th>\n",
       "      <td>Carmel Valley Middle</td>\n",
       "      <td>10</td>\n",
       "      <td>3800 Mykonos Lane</td>\n",
       "      <td>San Diego</td>\n",
       "      <td>92130</td>\n",
       "      <td>7-8</td>\n",
       "      <td>1135</td>\n",
       "      <td>27:1</td>\n",
       "      <td>San Dieguito Union High</td>\n",
       "    </tr>\n",
       "  </tbody>\n",
       "</table>\n",
       "</div>"
      ],
      "text/plain": [
       "            School Name School Rating         School Address        City  \\\n",
       "0        Great Oak High            10  32555 Deer Hollow Way    Temecula   \n",
       "1  Carmel Valley Middle            10      3800 Mykonos Lane   San Diego   \n",
       "\n",
       "  Zip Code Grades Total Students Enrolled Students Per Teacher  \\\n",
       "0    92592   9-12                    3161                 30:1   \n",
       "1    92130    7-8                    1135                 27:1   \n",
       "\n",
       "                  District  \n",
       "0  Temecula Valley Unified  \n",
       "1  San Dieguito Union High  "
      ]
     },
     "metadata": {},
     "execution_count": 79
    }
   ],
   "metadata": {}
  }
 ],
 "metadata": {
  "orig_nbformat": 4,
  "language_info": {
   "name": "python",
   "version": "3.8.8",
   "mimetype": "text/x-python",
   "codemirror_mode": {
    "name": "ipython",
    "version": 3
   },
   "pygments_lexer": "ipython3",
   "nbconvert_exporter": "python",
   "file_extension": ".py"
  },
  "kernelspec": {
   "name": "python3",
   "display_name": "Python 3.8.8 64-bit"
  },
  "interpreter": {
   "hash": "5d95a783a95b3199ac64745f9965687ba8ceaeb0768726c54472dc78d5b76bcc"
  }
 },
 "nbformat": 4,
 "nbformat_minor": 2
}