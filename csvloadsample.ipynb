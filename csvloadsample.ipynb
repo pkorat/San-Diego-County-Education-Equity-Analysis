{
 "cells": [
  {
   "cell_type": "code",
   "execution_count": 1,
   "source": [
    "import scipy.stats as sts\r\n",
    "from scipy.stats import linregress\r\n",
    "import geopandas as gpd\r\n",
    "import numpy as np\r\n",
    "import pandas as pd\r\n",
    "import matplotlib.pyplot as plt\r\n",
    "import os\r\n",
    "os.getcwd()\r\n",
    "from sqlalchemy import create_engine\r\n",
    "from config import remote_db_endpoint, remote_db_port\r\n",
    "from config import remote_db_name, remote_db_user, remote_db_pwd\r\n",
    "import psycopg2\r\n",
    "from psycopg2.extensions import ISOLATION_LEVEL_AUTOCOMMIT"
   ],
   "outputs": [],
   "metadata": {}
  },
  {
   "cell_type": "markdown",
   "source": [
    "# <center> Read the San Diego County Crime Data CSV file </center>"
   ],
   "metadata": {}
  },
  {
   "cell_type": "code",
   "execution_count": 2,
   "source": [
    "crime_data1 = \"Data/SanDiegoCrimeDataSample.csv\"\r\n",
    "crime_data1_df = pd.read_csv(crime_data1)\r\n",
    "crime_data1_df[\"date\"] = pd.to_datetime(crime_data1_df[\"date\"])\r\n",
    "crime_data1_df.dtypes"
   ],
   "outputs": [
    {
     "output_type": "execute_result",
     "data": {
      "text/plain": [
       "crime                         object\n",
       "agency                        object\n",
       "charge_description            object\n",
       "date                  datetime64[ns]\n",
       "address                       object\n",
       "zipcode                      float64\n",
       "city                          object\n",
       "type                          object\n",
       "dtype: object"
      ]
     },
     "metadata": {},
     "execution_count": 2
    }
   ],
   "metadata": {}
  },
  {
   "cell_type": "code",
   "execution_count": 3,
   "source": [
    "cloud_engine = create_engine(f\"postgresql://{remote_db_user}:{remote_db_pwd}@{remote_db_endpoint}:{remote_db_port}/{remote_db_name}\")\r\n",
    "cloud_conn = cloud_engine.connect()\r\n",
    "crime_data1_df.to_sql('crime_sample', con=cloud_conn, if_exists='append', index=False)"
   ],
   "outputs": [],
   "metadata": {}
  }
 ],
 "metadata": {
  "orig_nbformat": 4,
  "language_info": {
   "name": "python",
   "version": "3.6.10",
   "mimetype": "text/x-python",
   "codemirror_mode": {
    "name": "ipython",
    "version": 3
   },
   "pygments_lexer": "ipython3",
   "nbconvert_exporter": "python",
   "file_extension": ".py"
  },
  "kernelspec": {
   "name": "python3",
   "display_name": "Python 3.6.10 64-bit ('PythonData2': conda)"
  },
  "interpreter": {
   "hash": "e0b418b09ac47957412e0b1b3ad755156e145bf5e9f3a21911cb1dcef404ebf8"
  }
 },
 "nbformat": 4,
 "nbformat_minor": 2
}