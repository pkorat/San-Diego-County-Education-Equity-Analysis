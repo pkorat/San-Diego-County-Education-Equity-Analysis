{
 "cells": [
  {
   "cell_type": "code",
   "execution_count": 7,
   "source": [
    "import scipy.stats as sts\r\n",
    "from scipy.stats import linregress\r\n",
    "import geopandas as gpd\r\n",
    "import numpy as np\r\n",
    "import pandas as pd\r\n",
    "import matplotlib.pyplot as plt\r\n",
    "import os\r\n",
    "os.getcwd()\r\n",
    "from sqlalchemy import create_engine\r\n",
    "from config import remote_db_endpoint, remote_db_port\r\n",
    "from config import remote_db_name, remote_db_user, remote_db_pwd\r\n",
    "import psycopg2\r\n",
    "from psycopg2.extensions import ISOLATION_LEVEL_AUTOCOMMIT\r\n",
    "import collections\r\n",
    "import json"
   ],
   "outputs": [],
   "metadata": {}
  },
  {
   "cell_type": "markdown",
   "source": [
    "# <center> Read the San Diego County Crime Data CSV file </center>"
   ],
   "metadata": {}
  },
  {
   "cell_type": "code",
   "execution_count": 3,
   "source": [
    "crime_data1 = \"Data/SanDiegoCrimeData1.csv\"\r\n",
    "crime_data1_df = pd.read_csv(crime_data1)\r\n",
    "crime_data1_df[\"date\"] = pd.to_datetime(crime_data1_df[\"date\"])\r\n",
    "crime_data1_df.dtypes"
   ],
   "outputs": [
    {
     "output_type": "execute_result",
     "data": {
      "text/plain": [
       "crime                         object\n",
       "agency                        object\n",
       "charge_description            object\n",
       "date                  datetime64[ns]\n",
       "address                       object\n",
       "zipcode                      float64\n",
       "city                          object\n",
       "type                          object\n",
       "dtype: object"
      ]
     },
     "metadata": {},
     "execution_count": 3
    }
   ],
   "metadata": {}
  },
  {
   "cell_type": "code",
   "execution_count": 4,
   "source": [
    "cloud_engine = create_engine(f\"postgresql://{remote_db_user}:{remote_db_pwd}@{remote_db_endpoint}:{remote_db_port}/{remote_db_name}\")\r\n",
    "cloud_conn = cloud_engine.connect()\r\n",
    "crime_data1_df.to_sql('crime_data', con=cloud_conn, if_exists='append', index=False)"
   ],
   "outputs": [],
   "metadata": {}
  },
  {
   "cell_type": "code",
   "execution_count": 5,
   "source": [
    "crime_data2 = \"Data/SanDiegoCrimeData2.csv\"\r\n",
    "crime_data2_df = pd.read_csv(crime_data2)\r\n",
    "crime_data2_df[\"date\"] = pd.to_datetime(crime_data2_df[\"date\"])\r\n",
    "crime_data2_df.dtypes"
   ],
   "outputs": [
    {
     "output_type": "execute_result",
     "data": {
      "text/plain": [
       "crime                         object\n",
       "agency                        object\n",
       "charge_description            object\n",
       "date                  datetime64[ns]\n",
       "address                       object\n",
       "zipcode                      float64\n",
       "city                          object\n",
       "type                          object\n",
       "dtype: object"
      ]
     },
     "metadata": {},
     "execution_count": 5
    }
   ],
   "metadata": {}
  },
  {
   "cell_type": "code",
   "execution_count": 6,
   "source": [
    "cloud_engine = create_engine(f\"postgresql://{remote_db_user}:{remote_db_pwd}@{remote_db_endpoint}:{remote_db_port}/{remote_db_name}\")\r\n",
    "cloud_conn = cloud_engine.connect()\r\n",
    "crime_data2_df.to_sql('crime_data', con=cloud_conn, if_exists='append', index=False)"
   ],
   "outputs": [],
   "metadata": {}
  },
  {
   "cell_type": "code",
   "execution_count": 7,
   "source": [
    "crime_data3 = \"Data/SanDiegoCrimeData3.csv\"\r\n",
    "crime_data3_df = pd.read_csv(crime_data3)\r\n",
    "crime_data3_df[\"date\"] = pd.to_datetime(crime_data3_df[\"date\"])\r\n",
    "crime_data3_df.dtypes"
   ],
   "outputs": [
    {
     "output_type": "execute_result",
     "data": {
      "text/plain": [
       "crime                         object\n",
       "agency                        object\n",
       "charge_description            object\n",
       "date                  datetime64[ns]\n",
       "address                       object\n",
       "zipcode                      float64\n",
       "city                          object\n",
       "type                          object\n",
       "dtype: object"
      ]
     },
     "metadata": {},
     "execution_count": 7
    }
   ],
   "metadata": {}
  },
  {
   "cell_type": "code",
   "execution_count": 8,
   "source": [
    "cloud_engine = create_engine(f\"postgresql://{remote_db_user}:{remote_db_pwd}@{remote_db_endpoint}:{remote_db_port}/{remote_db_name}\")\r\n",
    "cloud_conn = cloud_engine.connect()\r\n",
    "crime_data3_df.to_sql('crime_data', con=cloud_conn, if_exists='append', index=False)"
   ],
   "outputs": [],
   "metadata": {}
  },
  {
   "cell_type": "code",
   "execution_count": 9,
   "source": [
    "crime_data4 = \"Data/SanDiegoCrimeData4.csv\"\r\n",
    "crime_data4_df = pd.read_csv(crime_data4)\r\n",
    "crime_data4_df[\"date\"] = pd.to_datetime(crime_data4_df[\"date\"])\r\n",
    "crime_data4_df.dtypes"
   ],
   "outputs": [
    {
     "output_type": "execute_result",
     "data": {
      "text/plain": [
       "crime                         object\n",
       "agency                        object\n",
       "charge_description            object\n",
       "date                  datetime64[ns]\n",
       "address                       object\n",
       "zipcode                      float64\n",
       "city                          object\n",
       "type                          object\n",
       "dtype: object"
      ]
     },
     "metadata": {},
     "execution_count": 9
    }
   ],
   "metadata": {}
  },
  {
   "cell_type": "code",
   "execution_count": 10,
   "source": [
    "cloud_engine = create_engine(f\"postgresql://{remote_db_user}:{remote_db_pwd}@{remote_db_endpoint}:{remote_db_port}/{remote_db_name}\")\r\n",
    "cloud_conn = cloud_engine.connect()\r\n",
    "crime_data4_df.to_sql('crime_data', con=cloud_conn, if_exists='append', index=False)"
   ],
   "outputs": [],
   "metadata": {}
  },
  {
   "cell_type": "code",
   "execution_count": 11,
   "source": [
    "crime_data5 = \"Data/SanDiegoCrimeData5.csv\"\r\n",
    "crime_data5_df = pd.read_csv(crime_data5)\r\n",
    "crime_data5_df[\"date\"] = pd.to_datetime(crime_data5_df[\"date\"])\r\n",
    "crime_data5_df.dtypes"
   ],
   "outputs": [
    {
     "output_type": "execute_result",
     "data": {
      "text/plain": [
       "crime                         object\n",
       "agency                        object\n",
       "charge_description            object\n",
       "date                  datetime64[ns]\n",
       "address                       object\n",
       "zipcode                      float64\n",
       "city                          object\n",
       "type                          object\n",
       "dtype: object"
      ]
     },
     "metadata": {},
     "execution_count": 11
    }
   ],
   "metadata": {}
  },
  {
   "cell_type": "code",
   "execution_count": 12,
   "source": [
    "cloud_engine = create_engine(f\"postgresql://{remote_db_user}:{remote_db_pwd}@{remote_db_endpoint}:{remote_db_port}/{remote_db_name}\")\r\n",
    "cloud_conn = cloud_engine.connect()\r\n",
    "crime_data5_df.to_sql('crime_data', con=cloud_conn, if_exists='append', index=False)"
   ],
   "outputs": [],
   "metadata": {}
  },
  {
   "cell_type": "code",
   "execution_count": 13,
   "source": [
    "crime_data6 = \"Data/SanDiegoCrimeData6.csv\"\r\n",
    "crime_data6_df = pd.read_csv(crime_data6)\r\n",
    "crime_data6_df[\"date\"] = pd.to_datetime(crime_data6_df[\"date\"])\r\n",
    "crime_data6_df.dtypes"
   ],
   "outputs": [
    {
     "output_type": "execute_result",
     "data": {
      "text/plain": [
       "crime                         object\n",
       "agency                        object\n",
       "charge_description            object\n",
       "date                  datetime64[ns]\n",
       "address                       object\n",
       "zipcode                      float64\n",
       "city                          object\n",
       "type                          object\n",
       "dtype: object"
      ]
     },
     "metadata": {},
     "execution_count": 13
    }
   ],
   "metadata": {}
  },
  {
   "cell_type": "code",
   "execution_count": 14,
   "source": [
    "cloud_engine = create_engine(f\"postgresql://{remote_db_user}:{remote_db_pwd}@{remote_db_endpoint}:{remote_db_port}/{remote_db_name}\")\r\n",
    "cloud_conn = cloud_engine.connect()\r\n",
    "crime_data6_df.to_sql('crime_data', con=cloud_conn, if_exists='append', index=False)"
   ],
   "outputs": [],
   "metadata": {}
  },
  {
   "cell_type": "code",
   "execution_count": 15,
   "source": [
    "crime_data7 = \"Data/SanDiegoCrimeData7.csv\"\r\n",
    "crime_data7_df = pd.read_csv(crime_data7)\r\n",
    "crime_data7_df[\"date\"] = pd.to_datetime(crime_data7_df[\"date\"])\r\n",
    "crime_data7_df.dtypes"
   ],
   "outputs": [
    {
     "output_type": "execute_result",
     "data": {
      "text/plain": [
       "crime                         object\n",
       "agency                        object\n",
       "charge_description            object\n",
       "date                  datetime64[ns]\n",
       "address                       object\n",
       "zipcode                      float64\n",
       "city                          object\n",
       "type                          object\n",
       "dtype: object"
      ]
     },
     "metadata": {},
     "execution_count": 15
    }
   ],
   "metadata": {}
  },
  {
   "cell_type": "code",
   "execution_count": 16,
   "source": [
    "cloud_engine = create_engine(f\"postgresql://{remote_db_user}:{remote_db_pwd}@{remote_db_endpoint}:{remote_db_port}/{remote_db_name}\")\r\n",
    "cloud_conn = cloud_engine.connect()\r\n",
    "crime_data7_df.to_sql('crime_data', con=cloud_conn, if_exists='append', index=False)"
   ],
   "outputs": [],
   "metadata": {}
  },
  {
   "cell_type": "code",
   "execution_count": 17,
   "source": [
    "crime_data8 = \"Data/SanDiegoCrimeData8.csv\"\r\n",
    "crime_data8_df = pd.read_csv(crime_data8)\r\n",
    "crime_data8_df[\"date\"] = pd.to_datetime(crime_data8_df[\"date\"])\r\n",
    "crime_data8_df.dtypes"
   ],
   "outputs": [
    {
     "output_type": "execute_result",
     "data": {
      "text/plain": [
       "crime                         object\n",
       "agency                        object\n",
       "charge_description            object\n",
       "date                  datetime64[ns]\n",
       "address                       object\n",
       "zipcode                      float64\n",
       "city                          object\n",
       "type                          object\n",
       "dtype: object"
      ]
     },
     "metadata": {},
     "execution_count": 17
    }
   ],
   "metadata": {}
  },
  {
   "cell_type": "code",
   "execution_count": 18,
   "source": [
    "cloud_engine = create_engine(f\"postgresql://{remote_db_user}:{remote_db_pwd}@{remote_db_endpoint}:{remote_db_port}/{remote_db_name}\")\r\n",
    "cloud_conn = cloud_engine.connect()\r\n",
    "crime_data8_df.to_sql('crime_data', con=cloud_conn, if_exists='append', index=False)"
   ],
   "outputs": [],
   "metadata": {}
  },
  {
   "cell_type": "code",
   "execution_count": 19,
   "source": [
    "geometric_data = \"Data/Zipcode_latlong.csv\"\r\n",
    "geometric_data_df = pd.read_csv(geometric_data)\r\n",
    "geometric_data_df.dtypes"
   ],
   "outputs": [
    {
     "output_type": "execute_result",
     "data": {
      "text/plain": [
       "longitude    float64\n",
       "latitude     float64\n",
       "zipcode        int64\n",
       "dtype: object"
      ]
     },
     "metadata": {},
     "execution_count": 19
    }
   ],
   "metadata": {}
  },
  {
   "cell_type": "code",
   "execution_count": 20,
   "source": [
    "cloud_engine = create_engine(f\"postgresql://{remote_db_user}:{remote_db_pwd}@{remote_db_endpoint}:{remote_db_port}/{remote_db_name}\")\r\n",
    "cloud_conn = cloud_engine.connect()\r\n",
    "geometric_data_df.to_sql('geometrical_data', con=cloud_conn, if_exists='append', index=False)"
   ],
   "outputs": [],
   "metadata": {}
  },
  {
   "cell_type": "code",
   "execution_count": 3,
   "source": [
    "cloud_engine = create_engine(f\"postgresql://{remote_db_user}:{remote_db_pwd}@{remote_db_endpoint}:{remote_db_port}/{remote_db_name}\")\r\n",
    "cloud_conn = cloud_engine.connect()\r\n",
    "sdcrime_geography = pd.read_sql('select * from crime_sample', cloud_conn)\r\n",
    "sdcrime_geography.head()"
   ],
   "outputs": [
    {
     "output_type": "execute_result",
     "data": {
      "text/html": [
       "<div>\n",
       "<style scoped>\n",
       "    .dataframe tbody tr th:only-of-type {\n",
       "        vertical-align: middle;\n",
       "    }\n",
       "\n",
       "    .dataframe tbody tr th {\n",
       "        vertical-align: top;\n",
       "    }\n",
       "\n",
       "    .dataframe thead th {\n",
       "        text-align: right;\n",
       "    }\n",
       "</style>\n",
       "<table border=\"1\" class=\"dataframe\">\n",
       "  <thead>\n",
       "    <tr style=\"text-align: right;\">\n",
       "      <th></th>\n",
       "      <th>crime</th>\n",
       "      <th>agency</th>\n",
       "      <th>charge_description</th>\n",
       "      <th>date</th>\n",
       "      <th>address</th>\n",
       "      <th>zipcode</th>\n",
       "      <th>city</th>\n",
       "      <th>type</th>\n",
       "      <th>latitude</th>\n",
       "      <th>longitude</th>\n",
       "    </tr>\n",
       "  </thead>\n",
       "  <tbody>\n",
       "    <tr>\n",
       "      <th>0</th>\n",
       "      <td>ASSAULT</td>\n",
       "      <td>CHULA VISTA</td>\n",
       "      <td>ASSAULT WITH CAUSTIC CHEMICAL (F)</td>\n",
       "      <td>2021-03-29 11:30:00</td>\n",
       "      <td>05TH AVENUE &amp; WESTBY STREET</td>\n",
       "      <td>91911.0</td>\n",
       "      <td>CHULA VISTA</td>\n",
       "      <td>Violent</td>\n",
       "      <td>32.616</td>\n",
       "      <td>-117.034</td>\n",
       "    </tr>\n",
       "    <tr>\n",
       "      <th>1</th>\n",
       "      <td>ASSAULT</td>\n",
       "      <td>CHULA VISTA</td>\n",
       "      <td>ATTEMPTED MURDER (F)</td>\n",
       "      <td>2021-03-15 20:54:00</td>\n",
       "      <td>600 E  BLOCK J STREET</td>\n",
       "      <td>91910.0</td>\n",
       "      <td>CHULA VISTA</td>\n",
       "      <td>Violent</td>\n",
       "      <td>32.637</td>\n",
       "      <td>-117.050</td>\n",
       "    </tr>\n",
       "    <tr>\n",
       "      <th>2</th>\n",
       "      <td>ASSAULT</td>\n",
       "      <td>CHULA VISTA</td>\n",
       "      <td>ASSAULT W/DEADLY WEAPON:NOT F/ARM (F)</td>\n",
       "      <td>2021-04-11 20:00:00</td>\n",
       "      <td>0  BLOCK GUAVA AVENUE</td>\n",
       "      <td>91910.0</td>\n",
       "      <td>None</td>\n",
       "      <td>Violent</td>\n",
       "      <td>32.637</td>\n",
       "      <td>-117.050</td>\n",
       "    </tr>\n",
       "    <tr>\n",
       "      <th>3</th>\n",
       "      <td>ASSAULT</td>\n",
       "      <td>CHULA VISTA</td>\n",
       "      <td>BATTERY ON PERSON (M)</td>\n",
       "      <td>2021-05-28 09:00:00</td>\n",
       "      <td>200  BLOCK 03RD AVENUE</td>\n",
       "      <td>91910.0</td>\n",
       "      <td>CHULA VISTA</td>\n",
       "      <td>Violent</td>\n",
       "      <td>32.637</td>\n",
       "      <td>-117.050</td>\n",
       "    </tr>\n",
       "    <tr>\n",
       "      <th>4</th>\n",
       "      <td>ASSAULT</td>\n",
       "      <td>ESCONDIDO</td>\n",
       "      <td>BATTERY ON PERSON (M)</td>\n",
       "      <td>2021-06-20 17:50:00</td>\n",
       "      <td>900 S  BLOCK ESCONDIDO BOULEVARD</td>\n",
       "      <td>92025.0</td>\n",
       "      <td>ESCONDIDO</td>\n",
       "      <td>Violent</td>\n",
       "      <td>33.057</td>\n",
       "      <td>-117.083</td>\n",
       "    </tr>\n",
       "  </tbody>\n",
       "</table>\n",
       "</div>"
      ],
      "text/plain": [
       "     crime       agency                     charge_description  \\\n",
       "0  ASSAULT  CHULA VISTA      ASSAULT WITH CAUSTIC CHEMICAL (F)   \n",
       "1  ASSAULT  CHULA VISTA                   ATTEMPTED MURDER (F)   \n",
       "2  ASSAULT  CHULA VISTA  ASSAULT W/DEADLY WEAPON:NOT F/ARM (F)   \n",
       "3  ASSAULT  CHULA VISTA                  BATTERY ON PERSON (M)   \n",
       "4  ASSAULT    ESCONDIDO                  BATTERY ON PERSON (M)   \n",
       "\n",
       "                 date                           address  zipcode         city  \\\n",
       "0 2021-03-29 11:30:00       05TH AVENUE & WESTBY STREET  91911.0  CHULA VISTA   \n",
       "1 2021-03-15 20:54:00             600 E  BLOCK J STREET  91910.0  CHULA VISTA   \n",
       "2 2021-04-11 20:00:00             0  BLOCK GUAVA AVENUE  91910.0         None   \n",
       "3 2021-05-28 09:00:00            200  BLOCK 03RD AVENUE  91910.0  CHULA VISTA   \n",
       "4 2021-06-20 17:50:00  900 S  BLOCK ESCONDIDO BOULEVARD  92025.0    ESCONDIDO   \n",
       "\n",
       "      type  latitude  longitude  \n",
       "0  Violent    32.616   -117.034  \n",
       "1  Violent    32.637   -117.050  \n",
       "2  Violent    32.637   -117.050  \n",
       "3  Violent    32.637   -117.050  \n",
       "4  Violent    33.057   -117.083  "
      ]
     },
     "metadata": {},
     "execution_count": 3
    }
   ],
   "metadata": {}
  },
  {
   "cell_type": "code",
   "execution_count": 4,
   "source": [
    "sdcrime_geography_json = sdcrime_geography.to_json(orient='table')\r\n",
    "parsed = json.loads(sdcrime_geography_json)"
   ],
   "outputs": [],
   "metadata": {}
  },
  {
   "cell_type": "code",
   "execution_count": 5,
   "source": [
    "with open('JSON/sdcrime_geography.json', 'w') as outfile:\r\n",
    "    json.dump(parsed, outfile)"
   ],
   "outputs": [],
   "metadata": {}
  },
  {
   "cell_type": "code",
   "execution_count": 12,
   "source": [
    "cloud_engine = create_engine(f\"postgresql://{remote_db_user}:{remote_db_pwd}@{remote_db_endpoint}:{remote_db_port}/{remote_db_name}\")\r\n",
    "cloud_conn = cloud_engine.connect()\r\n",
    "sdcrime_substance = pd.read_sql(\"select zipcode, count(type) , latitude, longitude \" +\r\n",
    "                                \"from crime_sample \" + \r\n",
    "                                \"where type = 'Substance Abuse' \" + \r\n",
    "                                \"group by zipcode, type, latitude, longitude \" +              \r\n",
    "                                \"order by zipcode\", cloud_conn)\r\n",
    "#sdcrime_substance.head\r\n",
    "sdcrime_substance = sdcrime_substance.rename(columns = {'count':'Substance Abuse Count'})\r\n",
    "sdcrime_substance.head()"
   ],
   "outputs": [
    {
     "output_type": "execute_result",
     "data": {
      "text/html": [
       "<div>\n",
       "<style scoped>\n",
       "    .dataframe tbody tr th:only-of-type {\n",
       "        vertical-align: middle;\n",
       "    }\n",
       "\n",
       "    .dataframe tbody tr th {\n",
       "        vertical-align: top;\n",
       "    }\n",
       "\n",
       "    .dataframe thead th {\n",
       "        text-align: right;\n",
       "    }\n",
       "</style>\n",
       "<table border=\"1\" class=\"dataframe\">\n",
       "  <thead>\n",
       "    <tr style=\"text-align: right;\">\n",
       "      <th></th>\n",
       "      <th>zipcode</th>\n",
       "      <th>Substance Abuse Count</th>\n",
       "      <th>latitude</th>\n",
       "      <th>longitude</th>\n",
       "    </tr>\n",
       "  </thead>\n",
       "  <tbody>\n",
       "    <tr>\n",
       "      <th>0</th>\n",
       "      <td>91901.0</td>\n",
       "      <td>317</td>\n",
       "      <td>32.741</td>\n",
       "      <td>-116.976</td>\n",
       "    </tr>\n",
       "    <tr>\n",
       "      <th>1</th>\n",
       "      <td>91902.0</td>\n",
       "      <td>24</td>\n",
       "      <td>32.674</td>\n",
       "      <td>-117.021</td>\n",
       "    </tr>\n",
       "    <tr>\n",
       "      <th>2</th>\n",
       "      <td>91905.0</td>\n",
       "      <td>4</td>\n",
       "      <td>33.017</td>\n",
       "      <td>-116.846</td>\n",
       "    </tr>\n",
       "    <tr>\n",
       "      <th>3</th>\n",
       "      <td>91906.0</td>\n",
       "      <td>4</td>\n",
       "      <td>33.017</td>\n",
       "      <td>-116.846</td>\n",
       "    </tr>\n",
       "    <tr>\n",
       "      <th>4</th>\n",
       "      <td>91908.0</td>\n",
       "      <td>1</td>\n",
       "      <td>33.017</td>\n",
       "      <td>-116.846</td>\n",
       "    </tr>\n",
       "  </tbody>\n",
       "</table>\n",
       "</div>"
      ],
      "text/plain": [
       "   zipcode  Substance Abuse Count  latitude  longitude\n",
       "0  91901.0                    317    32.741   -116.976\n",
       "1  91902.0                     24    32.674   -117.021\n",
       "2  91905.0                      4    33.017   -116.846\n",
       "3  91906.0                      4    33.017   -116.846\n",
       "4  91908.0                      1    33.017   -116.846"
      ]
     },
     "metadata": {},
     "execution_count": 12
    }
   ],
   "metadata": {}
  },
  {
   "cell_type": "code",
   "execution_count": 13,
   "source": [
    "cloud_engine = create_engine(f\"postgresql://{remote_db_user}:{remote_db_pwd}@{remote_db_endpoint}:{remote_db_port}/{remote_db_name}\")\r\n",
    "cloud_conn = cloud_engine.connect()\r\n",
    "sdcrime_violent = pd.read_sql(\"select zipcode, count(type) , latitude, longitude \" +\r\n",
    "                                \"from crime_sample \" + \r\n",
    "                                \"where type = 'Violent' \" + \r\n",
    "                                \"group by zipcode, type, latitude, longitude \" +              \r\n",
    "                                \"order by zipcode\", cloud_conn)\r\n",
    "#sdcrime_substance.head\r\n",
    "sdcrime_violent = sdcrime_violent.rename(columns = {'count':'Violent Count'})\r\n",
    "sdcrime_violent.head()"
   ],
   "outputs": [
    {
     "output_type": "execute_result",
     "data": {
      "text/html": [
       "<div>\n",
       "<style scoped>\n",
       "    .dataframe tbody tr th:only-of-type {\n",
       "        vertical-align: middle;\n",
       "    }\n",
       "\n",
       "    .dataframe tbody tr th {\n",
       "        vertical-align: top;\n",
       "    }\n",
       "\n",
       "    .dataframe thead th {\n",
       "        text-align: right;\n",
       "    }\n",
       "</style>\n",
       "<table border=\"1\" class=\"dataframe\">\n",
       "  <thead>\n",
       "    <tr style=\"text-align: right;\">\n",
       "      <th></th>\n",
       "      <th>zipcode</th>\n",
       "      <th>Violent Count</th>\n",
       "      <th>latitude</th>\n",
       "      <th>longitude</th>\n",
       "    </tr>\n",
       "  </thead>\n",
       "  <tbody>\n",
       "    <tr>\n",
       "      <th>0</th>\n",
       "      <td>91901.0</td>\n",
       "      <td>50</td>\n",
       "      <td>32.741</td>\n",
       "      <td>-116.976</td>\n",
       "    </tr>\n",
       "    <tr>\n",
       "      <th>1</th>\n",
       "      <td>91902.0</td>\n",
       "      <td>19</td>\n",
       "      <td>32.674</td>\n",
       "      <td>-117.021</td>\n",
       "    </tr>\n",
       "    <tr>\n",
       "      <th>2</th>\n",
       "      <td>91905.0</td>\n",
       "      <td>18</td>\n",
       "      <td>33.017</td>\n",
       "      <td>-116.846</td>\n",
       "    </tr>\n",
       "    <tr>\n",
       "      <th>3</th>\n",
       "      <td>91906.0</td>\n",
       "      <td>15</td>\n",
       "      <td>33.017</td>\n",
       "      <td>-116.846</td>\n",
       "    </tr>\n",
       "    <tr>\n",
       "      <th>4</th>\n",
       "      <td>91909.0</td>\n",
       "      <td>2</td>\n",
       "      <td>33.017</td>\n",
       "      <td>-116.846</td>\n",
       "    </tr>\n",
       "  </tbody>\n",
       "</table>\n",
       "</div>"
      ],
      "text/plain": [
       "   zipcode  Violent Count  latitude  longitude\n",
       "0  91901.0             50    32.741   -116.976\n",
       "1  91902.0             19    32.674   -117.021\n",
       "2  91905.0             18    33.017   -116.846\n",
       "3  91906.0             15    33.017   -116.846\n",
       "4  91909.0              2    33.017   -116.846"
      ]
     },
     "metadata": {},
     "execution_count": 13
    }
   ],
   "metadata": {}
  },
  {
   "cell_type": "code",
   "execution_count": 14,
   "source": [
    "cloud_engine = create_engine(f\"postgresql://{remote_db_user}:{remote_db_pwd}@{remote_db_endpoint}:{remote_db_port}/{remote_db_name}\")\r\n",
    "cloud_conn = cloud_engine.connect()\r\n",
    "sdcrime_misc = pd.read_sql(\"select zipcode, count(type) , latitude, longitude \" +\r\n",
    "                                \"from crime_sample \" + \r\n",
    "                                \"where type = 'Miscellanoues' \" + \r\n",
    "                                \"group by zipcode, type, latitude, longitude \" +              \r\n",
    "                                \"order by zipcode\", cloud_conn)\r\n",
    "#sdcrime_substance.head\r\n",
    "sdcrime_misc = sdcrime_misc.rename(columns = {'count':'Miscellaneous Count'})\r\n",
    "sdcrime_misc.head()"
   ],
   "outputs": [
    {
     "output_type": "execute_result",
     "data": {
      "text/html": [
       "<div>\n",
       "<style scoped>\n",
       "    .dataframe tbody tr th:only-of-type {\n",
       "        vertical-align: middle;\n",
       "    }\n",
       "\n",
       "    .dataframe tbody tr th {\n",
       "        vertical-align: top;\n",
       "    }\n",
       "\n",
       "    .dataframe thead th {\n",
       "        text-align: right;\n",
       "    }\n",
       "</style>\n",
       "<table border=\"1\" class=\"dataframe\">\n",
       "  <thead>\n",
       "    <tr style=\"text-align: right;\">\n",
       "      <th></th>\n",
       "      <th>zipcode</th>\n",
       "      <th>Miscellaneous Count</th>\n",
       "      <th>latitude</th>\n",
       "      <th>longitude</th>\n",
       "    </tr>\n",
       "  </thead>\n",
       "  <tbody>\n",
       "    <tr>\n",
       "      <th>0</th>\n",
       "      <td>91901.0</td>\n",
       "      <td>52</td>\n",
       "      <td>32.741</td>\n",
       "      <td>-116.976</td>\n",
       "    </tr>\n",
       "    <tr>\n",
       "      <th>1</th>\n",
       "      <td>91902.0</td>\n",
       "      <td>29</td>\n",
       "      <td>32.674</td>\n",
       "      <td>-117.021</td>\n",
       "    </tr>\n",
       "    <tr>\n",
       "      <th>2</th>\n",
       "      <td>91905.0</td>\n",
       "      <td>2</td>\n",
       "      <td>33.017</td>\n",
       "      <td>-116.846</td>\n",
       "    </tr>\n",
       "    <tr>\n",
       "      <th>3</th>\n",
       "      <td>91906.0</td>\n",
       "      <td>6</td>\n",
       "      <td>33.017</td>\n",
       "      <td>-116.846</td>\n",
       "    </tr>\n",
       "    <tr>\n",
       "      <th>4</th>\n",
       "      <td>91909.0</td>\n",
       "      <td>1</td>\n",
       "      <td>33.017</td>\n",
       "      <td>-116.846</td>\n",
       "    </tr>\n",
       "  </tbody>\n",
       "</table>\n",
       "</div>"
      ],
      "text/plain": [
       "   zipcode  Miscellaneous Count  latitude  longitude\n",
       "0  91901.0                   52    32.741   -116.976\n",
       "1  91902.0                   29    32.674   -117.021\n",
       "2  91905.0                    2    33.017   -116.846\n",
       "3  91906.0                    6    33.017   -116.846\n",
       "4  91909.0                    1    33.017   -116.846"
      ]
     },
     "metadata": {},
     "execution_count": 14
    }
   ],
   "metadata": {}
  },
  {
   "cell_type": "code",
   "execution_count": 15,
   "source": [
    "cloud_engine = create_engine(f\"postgresql://{remote_db_user}:{remote_db_pwd}@{remote_db_endpoint}:{remote_db_port}/{remote_db_name}\")\r\n",
    "cloud_conn = cloud_engine.connect()\r\n",
    "sdcrime_theft = pd.read_sql(\"select zipcode, count(type) , latitude, longitude \" +\r\n",
    "                                \"from crime_sample \" + \r\n",
    "                                \"where type = 'Theft' \" + \r\n",
    "                                \"group by zipcode, type, latitude, longitude \" +              \r\n",
    "                                \"order by zipcode\", cloud_conn)\r\n",
    "#sdcrime_substance.head\r\n",
    "sdcrime_theft = sdcrime_theft.rename(columns = {'count':'Theft Count'})\r\n",
    "sdcrime_theft.head()"
   ],
   "outputs": [
    {
     "output_type": "execute_result",
     "data": {
      "text/html": [
       "<div>\n",
       "<style scoped>\n",
       "    .dataframe tbody tr th:only-of-type {\n",
       "        vertical-align: middle;\n",
       "    }\n",
       "\n",
       "    .dataframe tbody tr th {\n",
       "        vertical-align: top;\n",
       "    }\n",
       "\n",
       "    .dataframe thead th {\n",
       "        text-align: right;\n",
       "    }\n",
       "</style>\n",
       "<table border=\"1\" class=\"dataframe\">\n",
       "  <thead>\n",
       "    <tr style=\"text-align: right;\">\n",
       "      <th></th>\n",
       "      <th>zipcode</th>\n",
       "      <th>Theft Count</th>\n",
       "      <th>latitude</th>\n",
       "      <th>longitude</th>\n",
       "    </tr>\n",
       "  </thead>\n",
       "  <tbody>\n",
       "    <tr>\n",
       "      <th>0</th>\n",
       "      <td>91901.0</td>\n",
       "      <td>79</td>\n",
       "      <td>32.741</td>\n",
       "      <td>-116.976</td>\n",
       "    </tr>\n",
       "    <tr>\n",
       "      <th>1</th>\n",
       "      <td>91902.0</td>\n",
       "      <td>65</td>\n",
       "      <td>32.674</td>\n",
       "      <td>-117.021</td>\n",
       "    </tr>\n",
       "    <tr>\n",
       "      <th>2</th>\n",
       "      <td>91905.0</td>\n",
       "      <td>15</td>\n",
       "      <td>33.017</td>\n",
       "      <td>-116.846</td>\n",
       "    </tr>\n",
       "    <tr>\n",
       "      <th>3</th>\n",
       "      <td>91906.0</td>\n",
       "      <td>11</td>\n",
       "      <td>33.017</td>\n",
       "      <td>-116.846</td>\n",
       "    </tr>\n",
       "    <tr>\n",
       "      <th>4</th>\n",
       "      <td>91910.0</td>\n",
       "      <td>645</td>\n",
       "      <td>32.637</td>\n",
       "      <td>-117.050</td>\n",
       "    </tr>\n",
       "  </tbody>\n",
       "</table>\n",
       "</div>"
      ],
      "text/plain": [
       "   zipcode  Theft Count  latitude  longitude\n",
       "0  91901.0           79    32.741   -116.976\n",
       "1  91902.0           65    32.674   -117.021\n",
       "2  91905.0           15    33.017   -116.846\n",
       "3  91906.0           11    33.017   -116.846\n",
       "4  91910.0          645    32.637   -117.050"
      ]
     },
     "metadata": {},
     "execution_count": 15
    }
   ],
   "metadata": {}
  },
  {
   "cell_type": "code",
   "execution_count": 16,
   "source": [
    "sdcrime_merge1 = pd.merge(sdcrime_theft, sdcrime_substance, on=[\"zipcode\",\"latitude\",\"longitude\"], how='outer')\r\n",
    "sdcrime_merge2 = pd.merge(sdcrime_merge1, sdcrime_violent, on=[\"zipcode\",\"latitude\",\"longitude\"], how='outer')\r\n",
    "sdcrime_merge  = pd.merge(sdcrime_merge2, sdcrime_misc, on=[\"zipcode\",\"latitude\",\"longitude\"], how='outer')"
   ],
   "outputs": [
    {
     "output_type": "execute_result",
     "data": {
      "text/html": [
       "<div>\n",
       "<style scoped>\n",
       "    .dataframe tbody tr th:only-of-type {\n",
       "        vertical-align: middle;\n",
       "    }\n",
       "\n",
       "    .dataframe tbody tr th {\n",
       "        vertical-align: top;\n",
       "    }\n",
       "\n",
       "    .dataframe thead th {\n",
       "        text-align: right;\n",
       "    }\n",
       "</style>\n",
       "<table border=\"1\" class=\"dataframe\">\n",
       "  <thead>\n",
       "    <tr style=\"text-align: right;\">\n",
       "      <th></th>\n",
       "      <th>zipcode</th>\n",
       "      <th>Theft Count</th>\n",
       "      <th>latitude</th>\n",
       "      <th>longitude</th>\n",
       "      <th>Substance Abuse Count</th>\n",
       "      <th>Violent Count</th>\n",
       "      <th>Miscellaneous Count</th>\n",
       "    </tr>\n",
       "  </thead>\n",
       "  <tbody>\n",
       "    <tr>\n",
       "      <th>0</th>\n",
       "      <td>91901.0</td>\n",
       "      <td>79.0</td>\n",
       "      <td>32.741</td>\n",
       "      <td>-116.976</td>\n",
       "      <td>317.0</td>\n",
       "      <td>50.0</td>\n",
       "      <td>52.0</td>\n",
       "    </tr>\n",
       "    <tr>\n",
       "      <th>1</th>\n",
       "      <td>91902.0</td>\n",
       "      <td>65.0</td>\n",
       "      <td>32.674</td>\n",
       "      <td>-117.021</td>\n",
       "      <td>24.0</td>\n",
       "      <td>19.0</td>\n",
       "      <td>29.0</td>\n",
       "    </tr>\n",
       "    <tr>\n",
       "      <th>2</th>\n",
       "      <td>91905.0</td>\n",
       "      <td>15.0</td>\n",
       "      <td>33.017</td>\n",
       "      <td>-116.846</td>\n",
       "      <td>4.0</td>\n",
       "      <td>18.0</td>\n",
       "      <td>2.0</td>\n",
       "    </tr>\n",
       "    <tr>\n",
       "      <th>3</th>\n",
       "      <td>91906.0</td>\n",
       "      <td>11.0</td>\n",
       "      <td>33.017</td>\n",
       "      <td>-116.846</td>\n",
       "      <td>4.0</td>\n",
       "      <td>15.0</td>\n",
       "      <td>6.0</td>\n",
       "    </tr>\n",
       "    <tr>\n",
       "      <th>4</th>\n",
       "      <td>91910.0</td>\n",
       "      <td>645.0</td>\n",
       "      <td>32.637</td>\n",
       "      <td>-117.050</td>\n",
       "      <td>251.0</td>\n",
       "      <td>304.0</td>\n",
       "      <td>273.0</td>\n",
       "    </tr>\n",
       "    <tr>\n",
       "      <th>...</th>\n",
       "      <td>...</td>\n",
       "      <td>...</td>\n",
       "      <td>...</td>\n",
       "      <td>...</td>\n",
       "      <td>...</td>\n",
       "      <td>...</td>\n",
       "      <td>...</td>\n",
       "    </tr>\n",
       "    <tr>\n",
       "      <th>121</th>\n",
       "      <td>92085.0</td>\n",
       "      <td>NaN</td>\n",
       "      <td>33.017</td>\n",
       "      <td>-116.846</td>\n",
       "      <td>NaN</td>\n",
       "      <td>2.0</td>\n",
       "      <td>NaN</td>\n",
       "    </tr>\n",
       "    <tr>\n",
       "      <th>122</th>\n",
       "      <td>92158.0</td>\n",
       "      <td>NaN</td>\n",
       "      <td>33.017</td>\n",
       "      <td>-116.846</td>\n",
       "      <td>NaN</td>\n",
       "      <td>2.0</td>\n",
       "      <td>NaN</td>\n",
       "    </tr>\n",
       "    <tr>\n",
       "      <th>123</th>\n",
       "      <td>92161.0</td>\n",
       "      <td>NaN</td>\n",
       "      <td>32.872</td>\n",
       "      <td>-117.229</td>\n",
       "      <td>NaN</td>\n",
       "      <td>3.0</td>\n",
       "      <td>1.0</td>\n",
       "    </tr>\n",
       "    <tr>\n",
       "      <th>124</th>\n",
       "      <td>92371.0</td>\n",
       "      <td>NaN</td>\n",
       "      <td>34.840</td>\n",
       "      <td>-115.967</td>\n",
       "      <td>NaN</td>\n",
       "      <td>1.0</td>\n",
       "      <td>NaN</td>\n",
       "    </tr>\n",
       "    <tr>\n",
       "      <th>125</th>\n",
       "      <td>92536.0</td>\n",
       "      <td>NaN</td>\n",
       "      <td>33.519</td>\n",
       "      <td>-116.803</td>\n",
       "      <td>NaN</td>\n",
       "      <td>1.0</td>\n",
       "      <td>3.0</td>\n",
       "    </tr>\n",
       "  </tbody>\n",
       "</table>\n",
       "<p>126 rows × 7 columns</p>\n",
       "</div>"
      ],
      "text/plain": [
       "     zipcode  Theft Count  latitude  longitude  Substance Abuse Count  \\\n",
       "0    91901.0         79.0    32.741   -116.976                  317.0   \n",
       "1    91902.0         65.0    32.674   -117.021                   24.0   \n",
       "2    91905.0         15.0    33.017   -116.846                    4.0   \n",
       "3    91906.0         11.0    33.017   -116.846                    4.0   \n",
       "4    91910.0        645.0    32.637   -117.050                  251.0   \n",
       "..       ...          ...       ...        ...                    ...   \n",
       "121  92085.0          NaN    33.017   -116.846                    NaN   \n",
       "122  92158.0          NaN    33.017   -116.846                    NaN   \n",
       "123  92161.0          NaN    32.872   -117.229                    NaN   \n",
       "124  92371.0          NaN    34.840   -115.967                    NaN   \n",
       "125  92536.0          NaN    33.519   -116.803                    NaN   \n",
       "\n",
       "     Violent Count  Miscellaneous Count  \n",
       "0             50.0                 52.0  \n",
       "1             19.0                 29.0  \n",
       "2             18.0                  2.0  \n",
       "3             15.0                  6.0  \n",
       "4            304.0                273.0  \n",
       "..             ...                  ...  \n",
       "121            2.0                  NaN  \n",
       "122            2.0                  NaN  \n",
       "123            3.0                  1.0  \n",
       "124            1.0                  NaN  \n",
       "125            1.0                  3.0  \n",
       "\n",
       "[126 rows x 7 columns]"
      ]
     },
     "metadata": {},
     "execution_count": 16
    }
   ],
   "metadata": {}
  },
  {
   "cell_type": "code",
   "execution_count": 21,
   "source": [
    "sdcrime_merge['Theft Count'] = sdcrime_merge['Theft Count'].replace(np.nan, 0)\r\n",
    "sdcrime_merge['Substance Abuse Count'] = sdcrime_merge['Substance Abuse Count'].replace(np.nan, 0)\r\n",
    "sdcrime_merge['Violent Count'] = sdcrime_merge['Violent Count'].replace(np.nan, 0)\r\n",
    "sdcrime_merge['Miscellaneous Count'] = sdcrime_merge['Miscellaneous Count'].replace(np.nan, 0)\r\n",
    "sdcrime_merge.dtypes"
   ],
   "outputs": [
    {
     "output_type": "execute_result",
     "data": {
      "text/plain": [
       "zipcode                   object\n",
       "Theft Count              float64\n",
       "latitude                 float64\n",
       "longitude                float64\n",
       "Substance Abuse Count    float64\n",
       "Violent Count            float64\n",
       "Miscellaneous Count      float64\n",
       "dtype: object"
      ]
     },
     "metadata": {},
     "execution_count": 21
    }
   ],
   "metadata": {}
  },
  {
   "cell_type": "code",
   "execution_count": 46,
   "source": [
    "sdcrime_merge_json = sdcrime_merge.to_json(orient='table')\r\n",
    "parsed1 = json.loads(sdcrime_merge_json)\r\n",
    "print(parsed1)"
   ],
   "outputs": [
    {
     "output_type": "stream",
     "name": "stdout",
     "text": [
      "{'schema': {'fields': [{'name': 'index', 'type': 'integer'}, {'name': 'zipcode', 'type': 'number'}, {'name': 'Theft Count', 'type': 'number'}, {'name': 'latitude', 'type': 'number'}, {'name': 'longitude', 'type': 'number'}, {'name': 'Substance Abuse Count', 'type': 'number'}, {'name': 'Violent Count', 'type': 'number'}, {'name': 'Miscellaneous Count', 'type': 'number'}], 'primaryKey': ['index'], 'pandas_version': '0.20.0'}, 'data': [{'index': 0, 'zipcode': 91901.0, 'Theft Count': 79.0, 'latitude': 32.741, 'longitude': -116.976, 'Substance Abuse Count': 317.0, 'Violent Count': 50.0, 'Miscellaneous Count': 52.0}, {'index': 1, 'zipcode': 91902.0, 'Theft Count': 65.0, 'latitude': 32.674, 'longitude': -117.021, 'Substance Abuse Count': 24.0, 'Violent Count': 19.0, 'Miscellaneous Count': 29.0}, {'index': 2, 'zipcode': 91905.0, 'Theft Count': 15.0, 'latitude': 33.017, 'longitude': -116.846, 'Substance Abuse Count': 4.0, 'Violent Count': 18.0, 'Miscellaneous Count': 2.0}, {'index': 3, 'zipcode': 91906.0, 'Theft Count': 11.0, 'latitude': 33.017, 'longitude': -116.846, 'Substance Abuse Count': 4.0, 'Violent Count': 15.0, 'Miscellaneous Count': 6.0}, {'index': 4, 'zipcode': 91910.0, 'Theft Count': 645.0, 'latitude': 32.637, 'longitude': -117.05, 'Substance Abuse Count': 251.0, 'Violent Count': 304.0, 'Miscellaneous Count': 273.0}, {'index': 5, 'zipcode': 91911.0, 'Theft Count': 561.0, 'latitude': 32.616, 'longitude': -117.034, 'Substance Abuse Count': 209.0, 'Violent Count': 205.0, 'Miscellaneous Count': 181.0}, {'index': 6, 'zipcode': 91913.0, 'Theft Count': 154.0, 'latitude': 32.64, 'longitude': -116.985, 'Substance Abuse Count': 9.0, 'Violent Count': 37.0, 'Miscellaneous Count': 54.0}, {'index': 7, 'zipcode': 91914.0, 'Theft Count': 48.0, 'latitude': 32.656, 'longitude': -116.966, 'Substance Abuse Count': 4.0, 'Violent Count': 15.0, 'Miscellaneous Count': 25.0}, {'index': 8, 'zipcode': 91915.0, 'Theft Count': 91.0, 'latitude': 32.629, 'longitude': -116.948, 'Substance Abuse Count': 9.0, 'Violent Count': 42.0, 'Miscellaneous Count': 66.0}, {'index': 9, 'zipcode': 91916.0, 'Theft Count': 4.0, 'latitude': 33.017, 'longitude': -116.846, 'Substance Abuse Count': 0.0, 'Violent Count': 0.0, 'Miscellaneous Count': 0.0}, {'index': 10, 'zipcode': 91931.0, 'Theft Count': 2.0, 'latitude': 33.017, 'longitude': -116.846, 'Substance Abuse Count': 0.0, 'Violent Count': 0.0, 'Miscellaneous Count': 0.0}, {'index': 11, 'zipcode': 91932.0, 'Theft Count': 123.0, 'latitude': 32.579, 'longitude': -117.117, 'Substance Abuse Count': 170.0, 'Violent Count': 117.0, 'Miscellaneous Count': 83.0}, {'index': 12, 'zipcode': 91934.0, 'Theft Count': 8.0, 'latitude': 33.017, 'longitude': -116.846, 'Substance Abuse Count': 4.0, 'Violent Count': 7.0, 'Miscellaneous Count': 0.0}, {'index': 13, 'zipcode': 91935.0, 'Theft Count': 62.0, 'latitude': 33.017, 'longitude': -116.846, 'Substance Abuse Count': 45.0, 'Violent Count': 32.0, 'Miscellaneous Count': 10.0}, {'index': 14, 'zipcode': 91941.0, 'Theft Count': 172.0, 'latitude': 32.761, 'longitude': -116.998, 'Substance Abuse Count': 57.0, 'Violent Count': 51.0, 'Miscellaneous Count': 86.0}, {'index': 15, 'zipcode': 91942.0, 'Theft Count': 436.0, 'latitude': 32.781, 'longitude': -117.019, 'Substance Abuse Count': 120.0, 'Violent Count': 92.0, 'Miscellaneous Count': 117.0}, {'index': 16, 'zipcode': 91945.0, 'Theft Count': 238.0, 'latitude': 32.732, 'longitude': -117.037, 'Substance Abuse Count': 143.0, 'Violent Count': 131.0, 'Miscellaneous Count': 101.0}, {'index': 17, 'zipcode': 91950.0, 'Theft Count': 638.0, 'latitude': 32.671, 'longitude': -117.084, 'Substance Abuse Count': 202.0, 'Violent Count': 252.0, 'Miscellaneous Count': 300.0}, {'index': 18, 'zipcode': 91962.0, 'Theft Count': 3.0, 'latitude': 33.017, 'longitude': -116.846, 'Substance Abuse Count': 19.0, 'Violent Count': 13.0, 'Miscellaneous Count': 3.0}, {'index': 19, 'zipcode': 91963.0, 'Theft Count': 2.0, 'latitude': 33.017, 'longitude': -116.846, 'Substance Abuse Count': 1.0, 'Violent Count': 0.0, 'Miscellaneous Count': 0.0}, {'index': 20, 'zipcode': 91977.0, 'Theft Count': 269.0, 'latitude': 32.718, 'longitude': -117.0, 'Substance Abuse Count': 203.0, 'Violent Count': 226.0, 'Miscellaneous Count': 74.0}, {'index': 21, 'zipcode': 91978.0, 'Theft Count': 59.0, 'latitude': 32.733, 'longitude': -116.958, 'Substance Abuse Count': 14.0, 'Violent Count': 22.0, 'Miscellaneous Count': 11.0}, {'index': 22, 'zipcode': 91980.0, 'Theft Count': 2.0, 'latitude': 33.017, 'longitude': -116.846, 'Substance Abuse Count': 1.0, 'Violent Count': 4.0, 'Miscellaneous Count': 0.0}, {'index': 23, 'zipcode': 92003.0, 'Theft Count': 31.0, 'latitude': 33.017, 'longitude': -116.846, 'Substance Abuse Count': 41.0, 'Violent Count': 14.0, 'Miscellaneous Count': 3.0}, {'index': 24, 'zipcode': 92004.0, 'Theft Count': 31.0, 'latitude': 33.017, 'longitude': -116.846, 'Substance Abuse Count': 3.0, 'Violent Count': 8.0, 'Miscellaneous Count': 6.0}, {'index': 25, 'zipcode': 92007.0, 'Theft Count': 78.0, 'latitude': 33.023, 'longitude': -117.274, 'Substance Abuse Count': 20.0, 'Violent Count': 24.0, 'Miscellaneous Count': 21.0}, {'index': 26, 'zipcode': 92008.0, 'Theft Count': 422.0, 'latitude': 33.017, 'longitude': -116.846, 'Substance Abuse Count': 283.0, 'Violent Count': 147.0, 'Miscellaneous Count': 384.0}, {'index': 27, 'zipcode': 92009.0, 'Theft Count': 168.0, 'latitude': 33.082, 'longitude': -117.267, 'Substance Abuse Count': 66.0, 'Violent Count': 38.0, 'Miscellaneous Count': 116.0}, {'index': 28, 'zipcode': 92014.0, 'Theft Count': 109.0, 'latitude': 32.974, 'longitude': -117.224, 'Substance Abuse Count': 24.0, 'Violent Count': 24.0, 'Miscellaneous Count': 40.0}, {'index': 29, 'zipcode': 92019.0, 'Theft Count': 268.0, 'latitude': 32.865, 'longitude': -117.041, 'Substance Abuse Count': 115.0, 'Violent Count': 72.0, 'Miscellaneous Count': 60.0}, {'index': 30, 'zipcode': 92020.0, 'Theft Count': 490.0, 'latitude': 32.788, 'longitude': -116.961, 'Substance Abuse Count': 375.0, 'Violent Count': 226.0, 'Miscellaneous Count': 163.0}, {'index': 31, 'zipcode': 92021.0, 'Theft Count': 378.0, 'latitude': 32.822, 'longitude': -116.886, 'Substance Abuse Count': 353.0, 'Violent Count': 204.0, 'Miscellaneous Count': 118.0}, {'index': 32, 'zipcode': 92024.0, 'Theft Count': 357.0, 'latitude': 33.054, 'longitude': -117.25, 'Substance Abuse Count': 275.0, 'Violent Count': 165.0, 'Miscellaneous Count': 182.0}, {'index': 33, 'zipcode': 92025.0, 'Theft Count': 506.0, 'latitude': 33.057, 'longitude': -117.083, 'Substance Abuse Count': 548.0, 'Violent Count': 201.0, 'Miscellaneous Count': 322.0}, {'index': 34, 'zipcode': 92026.0, 'Theft Count': 223.0, 'latitude': 33.017, 'longitude': -116.846, 'Substance Abuse Count': 122.0, 'Violent Count': 211.0, 'Miscellaneous Count': 113.0}, {'index': 35, 'zipcode': 92027.0, 'Theft Count': 274.0, 'latitude': 33.017, 'longitude': -116.846, 'Substance Abuse Count': 184.0, 'Violent Count': 110.0, 'Miscellaneous Count': 162.0}, {'index': 36, 'zipcode': 92028.0, 'Theft Count': 284.0, 'latitude': 33.017, 'longitude': -116.846, 'Substance Abuse Count': 294.0, 'Violent Count': 182.0, 'Miscellaneous Count': 83.0}, {'index': 37, 'zipcode': 92029.0, 'Theft Count': 246.0, 'latitude': 33.072, 'longitude': -117.158, 'Substance Abuse Count': 122.0, 'Violent Count': 42.0, 'Miscellaneous Count': 59.0}, {'index': 38, 'zipcode': 92036.0, 'Theft Count': 4.0, 'latitude': 33.017, 'longitude': -116.846, 'Substance Abuse Count': 4.0, 'Violent Count': 11.0, 'Miscellaneous Count': 3.0}, {'index': 39, 'zipcode': 92037.0, 'Theft Count': 414.0, 'latitude': 32.899, 'longitude': -117.226, 'Substance Abuse Count': 50.0, 'Violent Count': 60.0, 'Miscellaneous Count': 109.0}, {'index': 40, 'zipcode': 92040.0, 'Theft Count': 146.0, 'latitude': 32.893, 'longitude': -116.899, 'Substance Abuse Count': 175.0, 'Violent Count': 100.0, 'Miscellaneous Count': 48.0}, {'index': 41, 'zipcode': 92054.0, 'Theft Count': 760.0, 'latitude': 33.017, 'longitude': -116.846, 'Substance Abuse Count': 644.0, 'Violent Count': 357.0, 'Miscellaneous Count': 299.0}, {'index': 42, 'zipcode': 92055.0, 'Theft Count': 2.0, 'latitude': 33.017, 'longitude': -116.846, 'Substance Abuse Count': 4.0, 'Violent Count': 2.0, 'Miscellaneous Count': 2.0}, {'index': 43, 'zipcode': 92056.0, 'Theft Count': 388.0, 'latitude': 33.017, 'longitude': -116.846, 'Substance Abuse Count': 227.0, 'Violent Count': 148.0, 'Miscellaneous Count': 204.0}, {'index': 44, 'zipcode': 92057.0, 'Theft Count': 266.0, 'latitude': 33.017, 'longitude': -116.846, 'Substance Abuse Count': 93.0, 'Violent Count': 142.0, 'Miscellaneous Count': 147.0}, {'index': 45, 'zipcode': 92058.0, 'Theft Count': 194.0, 'latitude': 33.017, 'longitude': -116.846, 'Substance Abuse Count': 201.0, 'Violent Count': 155.0, 'Miscellaneous Count': 133.0}, {'index': 46, 'zipcode': 92059.0, 'Theft Count': 49.0, 'latitude': 33.017, 'longitude': -116.846, 'Substance Abuse Count': 40.0, 'Violent Count': 32.0, 'Miscellaneous Count': 18.0}, {'index': 47, 'zipcode': 92060.0, 'Theft Count': 5.0, 'latitude': 33.017, 'longitude': -116.846, 'Substance Abuse Count': 0.0, 'Violent Count': 0.0, 'Miscellaneous Count': 1.0}, {'index': 48, 'zipcode': 92061.0, 'Theft Count': 19.0, 'latitude': 33.017, 'longitude': -116.846, 'Substance Abuse Count': 21.0, 'Violent Count': 6.0, 'Miscellaneous Count': 8.0}, {'index': 49, 'zipcode': 92064.0, 'Theft Count': 188.0, 'latitude': 32.994, 'longitude': -117.03, 'Substance Abuse Count': 108.0, 'Violent Count': 73.0, 'Miscellaneous Count': 71.0}, {'index': 50, 'zipcode': 92065.0, 'Theft Count': 80.0, 'latitude': 33.032, 'longitude': -116.977, 'Substance Abuse Count': 130.0, 'Violent Count': 71.0, 'Miscellaneous Count': 44.0}, {'index': 51, 'zipcode': 92067.0, 'Theft Count': 32.0, 'latitude': 33.005, 'longitude': -117.216, 'Substance Abuse Count': 8.0, 'Violent Count': 6.0, 'Miscellaneous Count': 9.0}, {'index': 52, 'zipcode': 92069.0, 'Theft Count': 206.0, 'latitude': 33.1, 'longitude': -117.215, 'Substance Abuse Count': 188.0, 'Violent Count': 312.0, 'Miscellaneous Count': 120.0}, {'index': 53, 'zipcode': 92070.0, 'Theft Count': 2.0, 'latitude': 33.017, 'longitude': -116.846, 'Substance Abuse Count': 0.0, 'Violent Count': 0.0, 'Miscellaneous Count': 1.0}, {'index': 54, 'zipcode': 92071.0, 'Theft Count': 258.0, 'latitude': 32.844, 'longitude': -116.995, 'Substance Abuse Count': 248.0, 'Violent Count': 212.0, 'Miscellaneous Count': 102.0}, {'index': 55, 'zipcode': 92072.0, 'Theft Count': 1.0, 'latitude': 33.017, 'longitude': -116.846, 'Substance Abuse Count': 0.0, 'Violent Count': 2.0, 'Miscellaneous Count': 0.0}, {'index': 56, 'zipcode': 92075.0, 'Theft Count': 86.0, 'latitude': 33.007, 'longitude': -117.257, 'Substance Abuse Count': 32.0, 'Violent Count': 22.0, 'Miscellaneous Count': 22.0}, {'index': 57, 'zipcode': 92078.0, 'Theft Count': 198.0, 'latitude': 33.017, 'longitude': -116.846, 'Substance Abuse Count': 78.0, 'Violent Count': 113.0, 'Miscellaneous Count': 77.0}, {'index': 58, 'zipcode': 92082.0, 'Theft Count': 122.0, 'latitude': 33.017, 'longitude': -116.846, 'Substance Abuse Count': 100.0, 'Violent Count': 53.0, 'Miscellaneous Count': 39.0}, {'index': 59, 'zipcode': 92083.0, 'Theft Count': 282.0, 'latitude': 33.017, 'longitude': -116.846, 'Substance Abuse Count': 252.0, 'Violent Count': 150.0, 'Miscellaneous Count': 121.0}, {'index': 60, 'zipcode': 92084.0, 'Theft Count': 164.0, 'latitude': 33.017, 'longitude': -116.846, 'Substance Abuse Count': 194.0, 'Violent Count': 151.0, 'Miscellaneous Count': 94.0}, {'index': 61, 'zipcode': 92086.0, 'Theft Count': 2.0, 'latitude': 33.017, 'longitude': -116.846, 'Substance Abuse Count': 7.0, 'Violent Count': 4.0, 'Miscellaneous Count': 3.0}, {'index': 62, 'zipcode': 92088.0, 'Theft Count': 1.0, 'latitude': 33.017, 'longitude': -116.846, 'Substance Abuse Count': 0.0, 'Violent Count': 0.0, 'Miscellaneous Count': 0.0}, {'index': 63, 'zipcode': 92091.0, 'Theft Count': 7.0, 'latitude': 32.962, 'longitude': -117.046, 'Substance Abuse Count': 0.0, 'Violent Count': 0.0, 'Miscellaneous Count': 0.0}, {'index': 64, 'zipcode': 92093.0, 'Theft Count': 12.0, 'latitude': 33.017, 'longitude': -116.846, 'Substance Abuse Count': 0.0, 'Violent Count': 5.0, 'Miscellaneous Count': 4.0}, {'index': 65, 'zipcode': 92101.0, 'Theft Count': 1376.0, 'latitude': 32.721, 'longitude': -117.174, 'Substance Abuse Count': 1421.0, 'Violent Count': 1090.0, 'Miscellaneous Count': 597.0}, {'index': 66, 'zipcode': 92102.0, 'Theft Count': 409.0, 'latitude': 32.717, 'longitude': -117.119, 'Substance Abuse Count': 194.0, 'Violent Count': 195.0, 'Miscellaneous Count': 188.0}, {'index': 67, 'zipcode': 92103.0, 'Theft Count': 516.0, 'latitude': 32.746, 'longitude': -117.171, 'Substance Abuse Count': 156.0, 'Violent Count': 185.0, 'Miscellaneous Count': 207.0}, {'index': 68, 'zipcode': 92104.0, 'Theft Count': 491.0, 'latitude': 32.739, 'longitude': -117.129, 'Substance Abuse Count': 96.0, 'Violent Count': 151.0, 'Miscellaneous Count': 177.0}, {'index': 69, 'zipcode': 92105.0, 'Theft Count': 590.0, 'latitude': 32.737, 'longitude': -117.087, 'Substance Abuse Count': 207.0, 'Violent Count': 274.0, 'Miscellaneous Count': 267.0}, {'index': 70, 'zipcode': 92106.0, 'Theft Count': 284.0, 'latitude': 32.709, 'longitude': -117.233, 'Substance Abuse Count': 62.0, 'Violent Count': 53.0, 'Miscellaneous Count': 73.0}, {'index': 71, 'zipcode': 92107.0, 'Theft Count': 332.0, 'latitude': 32.735, 'longitude': -117.203, 'Substance Abuse Count': 439.0, 'Violent Count': 128.0, 'Miscellaneous Count': 117.0}, {'index': 72, 'zipcode': 92108.0, 'Theft Count': 1009.0, 'latitude': 32.775, 'longitude': -117.149, 'Substance Abuse Count': 149.0, 'Violent Count': 258.0, 'Miscellaneous Count': 189.0}, {'index': 73, 'zipcode': 92109.0, 'Theft Count': 917.0, 'latitude': 32.795, 'longitude': -117.239, 'Substance Abuse Count': 913.0, 'Violent Count': 329.0, 'Miscellaneous Count': 311.0}, {'index': 74, 'zipcode': 92110.0, 'Theft Count': 626.0, 'latitude': 32.776, 'longitude': -117.208, 'Substance Abuse Count': 410.0, 'Violent Count': 260.0, 'Miscellaneous Count': 215.0}, {'index': 75, 'zipcode': 92111.0, 'Theft Count': 407.0, 'latitude': 32.804, 'longitude': -117.166, 'Substance Abuse Count': 91.0, 'Violent Count': 122.0, 'Miscellaneous Count': 136.0}, {'index': 76, 'zipcode': 92113.0, 'Theft Count': 458.0, 'latitude': 32.695, 'longitude': -117.122, 'Substance Abuse Count': 399.0, 'Violent Count': 372.0, 'Miscellaneous Count': 214.0}, {'index': 77, 'zipcode': 92114.0, 'Theft Count': 206.0, 'latitude': 32.706, 'longitude': -117.052, 'Substance Abuse Count': 84.0, 'Violent Count': 148.0, 'Miscellaneous Count': 146.0}, {'index': 78, 'zipcode': 92115.0, 'Theft Count': 670.0, 'latitude': 32.758, 'longitude': -117.071, 'Substance Abuse Count': 133.0, 'Violent Count': 258.0, 'Miscellaneous Count': 271.0}, {'index': 79, 'zipcode': 92116.0, 'Theft Count': 228.0, 'latitude': 32.765, 'longitude': -117.128, 'Substance Abuse Count': 29.0, 'Violent Count': 50.0, 'Miscellaneous Count': 84.0}, {'index': 80, 'zipcode': 92117.0, 'Theft Count': 347.0, 'latitude': 32.818, 'longitude': -117.197, 'Substance Abuse Count': 80.0, 'Violent Count': 99.0, 'Miscellaneous Count': 117.0}, {'index': 81, 'zipcode': 92118.0, 'Theft Count': 124.0, 'latitude': 32.656, 'longitude': -117.161, 'Substance Abuse Count': 36.0, 'Violent Count': 26.0, 'Miscellaneous Count': 66.0}, {'index': 82, 'zipcode': 92119.0, 'Theft Count': 117.0, 'latitude': 32.816, 'longitude': -117.033, 'Substance Abuse Count': 13.0, 'Violent Count': 23.0, 'Miscellaneous Count': 38.0}, {'index': 83, 'zipcode': 92120.0, 'Theft Count': 292.0, 'latitude': 32.795, 'longitude': -117.08, 'Substance Abuse Count': 92.0, 'Violent Count': 61.0, 'Miscellaneous Count': 89.0}, {'index': 84, 'zipcode': 92121.0, 'Theft Count': 182.0, 'latitude': 32.904, 'longitude': -117.208, 'Substance Abuse Count': 26.0, 'Violent Count': 23.0, 'Miscellaneous Count': 34.0}, {'index': 85, 'zipcode': 92122.0, 'Theft Count': 461.0, 'latitude': 32.857, 'longitude': -117.208, 'Substance Abuse Count': 30.0, 'Violent Count': 42.0, 'Miscellaneous Count': 105.0}, {'index': 86, 'zipcode': 92123.0, 'Theft Count': 313.0, 'latitude': 32.811, 'longitude': -117.137, 'Substance Abuse Count': 47.0, 'Violent Count': 103.0, 'Miscellaneous Count': 102.0}, {'index': 87, 'zipcode': 92124.0, 'Theft Count': 114.0, 'latitude': 32.819, 'longitude': -117.082, 'Substance Abuse Count': 8.0, 'Violent Count': 25.0, 'Miscellaneous Count': 52.0}, {'index': 88, 'zipcode': 92126.0, 'Theft Count': 473.0, 'latitude': 32.9, 'longitude': -117.145, 'Substance Abuse Count': 55.0, 'Violent Count': 90.0, 'Miscellaneous Count': 149.0}, {'index': 89, 'zipcode': 92127.0, 'Theft Count': 168.0, 'latitude': 33.021, 'longitude': -117.121, 'Substance Abuse Count': 11.0, 'Violent Count': 29.0, 'Miscellaneous Count': 52.0}, {'index': 90, 'zipcode': 92128.0, 'Theft Count': 267.0, 'latitude': 32.995, 'longitude': -117.075, 'Substance Abuse Count': 21.0, 'Violent Count': 35.0, 'Miscellaneous Count': 69.0}, {'index': 91, 'zipcode': 92129.0, 'Theft Count': 151.0, 'latitude': 32.965, 'longitude': -117.127, 'Substance Abuse Count': 10.0, 'Violent Count': 37.0, 'Miscellaneous Count': 51.0}, {'index': 92, 'zipcode': 92130.0, 'Theft Count': 221.0, 'latitude': 32.952, 'longitude': -117.162, 'Substance Abuse Count': 19.0, 'Violent Count': 40.0, 'Miscellaneous Count': 59.0}, {'index': 93, 'zipcode': 92131.0, 'Theft Count': 103.0, 'latitude': 32.875, 'longitude': -117.088, 'Substance Abuse Count': 12.0, 'Violent Count': 21.0, 'Miscellaneous Count': 46.0}, {'index': 94, 'zipcode': 92132.0, 'Theft Count': 1.0, 'latitude': 32.644, 'longitude': -117.138, 'Substance Abuse Count': 0.0, 'Violent Count': 0.0, 'Miscellaneous Count': 0.0}, {'index': 95, 'zipcode': 92134.0, 'Theft Count': 1.0, 'latitude': 32.562, 'longitude': -117.072, 'Substance Abuse Count': 0.0, 'Violent Count': 1.0, 'Miscellaneous Count': 0.0}, {'index': 96, 'zipcode': 92135.0, 'Theft Count': 1.0, 'latitude': 33.017, 'longitude': -116.846, 'Substance Abuse Count': 1.0, 'Violent Count': 0.0, 'Miscellaneous Count': 0.0}, {'index': 97, 'zipcode': 92136.0, 'Theft Count': 9.0, 'latitude': 32.683, 'longitude': -117.122, 'Substance Abuse Count': 2.0, 'Violent Count': 6.0, 'Miscellaneous Count': 5.0}, {'index': 98, 'zipcode': 92139.0, 'Theft Count': 127.0, 'latitude': 32.68, 'longitude': -117.048, 'Substance Abuse Count': 24.0, 'Violent Count': 35.0, 'Miscellaneous Count': 60.0}, {'index': 99, 'zipcode': 92140.0, 'Theft Count': 5.0, 'latitude': 32.743, 'longitude': -117.2, 'Substance Abuse Count': 1.0, 'Violent Count': 2.0, 'Miscellaneous Count': 2.0}, {'index': 100, 'zipcode': 92143.0, 'Theft Count': 1.0, 'latitude': 33.017, 'longitude': -116.846, 'Substance Abuse Count': 0.0, 'Violent Count': 0.0, 'Miscellaneous Count': 0.0}, {'index': 101, 'zipcode': 92154.0, 'Theft Count': 636.0, 'latitude': 32.628, 'longitude': -117.035, 'Substance Abuse Count': 164.0, 'Violent Count': 394.0, 'Miscellaneous Count': 182.0}, {'index': 102, 'zipcode': 92155.0, 'Theft Count': 4.0, 'latitude': 32.672, 'longitude': -117.166, 'Substance Abuse Count': 0.0, 'Violent Count': 0.0, 'Miscellaneous Count': 0.0}, {'index': 103, 'zipcode': 92173.0, 'Theft Count': 466.0, 'latitude': 32.566, 'longitude': -116.997, 'Substance Abuse Count': 112.0, 'Violent Count': 106.0, 'Miscellaneous Count': 115.0}, {'index': 104, 'zipcode': 92182.0, 'Theft Count': 2.0, 'latitude': 32.775, 'longitude': -117.076, 'Substance Abuse Count': 1.0, 'Violent Count': 1.0, 'Miscellaneous Count': 0.0}, {'index': 105, 'zipcode': 92250.0, 'Theft Count': 1.0, 'latitude': 32.867, 'longitude': -115.375, 'Substance Abuse Count': 0.0, 'Violent Count': 0.0, 'Miscellaneous Count': 0.0}, {'index': 106, 'zipcode': 92262.0, 'Theft Count': 1.0, 'latitude': 33.843, 'longitude': -116.528, 'Substance Abuse Count': 0.0, 'Violent Count': 0.0, 'Miscellaneous Count': 0.0}, {'index': 107, 'zipcode': 91908.0, 'Theft Count': 0.0, 'latitude': 33.017, 'longitude': -116.846, 'Substance Abuse Count': 1.0, 'Violent Count': 0.0, 'Miscellaneous Count': 0.0}, {'index': 108, 'zipcode': 91909.0, 'Theft Count': 0.0, 'latitude': 33.017, 'longitude': -116.846, 'Substance Abuse Count': 1.0, 'Violent Count': 2.0, 'Miscellaneous Count': 1.0}, {'index': 109, 'zipcode': 91917.0, 'Theft Count': 0.0, 'latitude': 33.017, 'longitude': -116.846, 'Substance Abuse Count': 2.0, 'Violent Count': 4.0, 'Miscellaneous Count': 1.0}, {'index': 110, 'zipcode': 92023.0, 'Theft Count': 0.0, 'latitude': 33.017, 'longitude': -116.846, 'Substance Abuse Count': 3.0, 'Violent Count': 1.0, 'Miscellaneous Count': 1.0}, {'index': 111, 'zipcode': 92049.0, 'Theft Count': 0.0, 'latitude': 33.017, 'longitude': -116.846, 'Substance Abuse Count': 3.0, 'Violent Count': 1.0, 'Miscellaneous Count': 0.0}, {'index': 112, 'zipcode': 92052.0, 'Theft Count': 0.0, 'latitude': 33.017, 'longitude': -116.846, 'Substance Abuse Count': 2.0, 'Violent Count': 0.0, 'Miscellaneous Count': 0.0}, {'index': 113, 'zipcode': 92145.0, 'Theft Count': 0.0, 'latitude': 32.889, 'longitude': -117.1, 'Substance Abuse Count': 1.0, 'Violent Count': 0.0, 'Miscellaneous Count': 0.0}, {'index': 114, 'zipcode': 92176.0, 'Theft Count': 0.0, 'latitude': 33.017, 'longitude': -116.846, 'Substance Abuse Count': 1.0, 'Violent Count': 0.0, 'Miscellaneous Count': 0.0}, {'index': 115, 'zipcode': 92178.0, 'Theft Count': 0.0, 'latitude': 33.017, 'longitude': -116.846, 'Substance Abuse Count': 1.0, 'Violent Count': 0.0, 'Miscellaneous Count': 0.0}, {'index': 116, 'zipcode': 92589.0, 'Theft Count': 0.0, 'latitude': 33.753, 'longitude': -116.056, 'Substance Abuse Count': 1.0, 'Violent Count': 0.0, 'Miscellaneous Count': 0.0}, {'index': 117, 'zipcode': 92592.0, 'Theft Count': 0.0, 'latitude': 33.753, 'longitude': -116.056, 'Substance Abuse Count': 1.0, 'Violent Count': 0.0, 'Miscellaneous Count': 1.0}, {'index': 118, 'zipcode': 92672.0, 'Theft Count': 0.0, 'latitude': 33.569, 'longitude': -117.616, 'Substance Abuse Count': 2.0, 'Violent Count': 0.0, 'Miscellaneous Count': 0.0}, {'index': 119, 'zipcode': 91948.0, 'Theft Count': 0.0, 'latitude': 33.017, 'longitude': -116.846, 'Substance Abuse Count': 0.0, 'Violent Count': 1.0, 'Miscellaneous Count': 0.0}, {'index': 120, 'zipcode': 92066.0, 'Theft Count': 0.0, 'latitude': 33.017, 'longitude': -116.846, 'Substance Abuse Count': 0.0, 'Violent Count': 1.0, 'Miscellaneous Count': 0.0}, {'index': 121, 'zipcode': 92085.0, 'Theft Count': 0.0, 'latitude': 33.017, 'longitude': -116.846, 'Substance Abuse Count': 0.0, 'Violent Count': 2.0, 'Miscellaneous Count': 0.0}, {'index': 122, 'zipcode': 92158.0, 'Theft Count': 0.0, 'latitude': 33.017, 'longitude': -116.846, 'Substance Abuse Count': 0.0, 'Violent Count': 2.0, 'Miscellaneous Count': 0.0}, {'index': 123, 'zipcode': 92161.0, 'Theft Count': 0.0, 'latitude': 32.872, 'longitude': -117.229, 'Substance Abuse Count': 0.0, 'Violent Count': 3.0, 'Miscellaneous Count': 1.0}, {'index': 124, 'zipcode': 92371.0, 'Theft Count': 0.0, 'latitude': 34.84, 'longitude': -115.967, 'Substance Abuse Count': 0.0, 'Violent Count': 1.0, 'Miscellaneous Count': 0.0}, {'index': 125, 'zipcode': 92536.0, 'Theft Count': 0.0, 'latitude': 33.519, 'longitude': -116.803, 'Substance Abuse Count': 0.0, 'Violent Count': 1.0, 'Miscellaneous Count': 3.0}]}\n"
     ]
    }
   ],
   "metadata": {}
  },
  {
   "cell_type": "code",
   "execution_count": 47,
   "source": [
    "with open('JSON/sdcrime_statistics.json', 'w') as outfile:\r\n",
    "    json.dump(parsed1, outfile)"
   ],
   "outputs": [],
   "metadata": {}
  }
 ],
 "metadata": {
  "orig_nbformat": 4,
  "language_info": {
   "name": "python",
   "version": "3.6.10",
   "mimetype": "text/x-python",
   "codemirror_mode": {
    "name": "ipython",
    "version": 3
   },
   "pygments_lexer": "ipython3",
   "nbconvert_exporter": "python",
   "file_extension": ".py"
  },
  "kernelspec": {
   "name": "python3",
   "display_name": "Python 3.6.10 64-bit ('PythonData2': conda)"
  },
  "interpreter": {
   "hash": "e0b418b09ac47957412e0b1b3ad755156e145bf5e9f3a21911cb1dcef404ebf8"
  }
 },
 "nbformat": 4,
 "nbformat_minor": 2
}