{
 "cells": [
  {
   "cell_type": "code",
   "execution_count": 2,
   "source": [
    "import scipy.stats as sts\r\n",
    "from scipy.stats import linregress\r\n",
    "import geopandas as gpd\r\n",
    "import numpy as np\r\n",
    "import pandas as pd\r\n",
    "import matplotlib.pyplot as plt\r\n",
    "import os\r\n",
    "os.getcwd()\r\n",
    "from sqlalchemy import create_engine\r\n",
    "from config import remote_db_endpoint, remote_db_port\r\n",
    "from config import remote_db_name, remote_db_user, remote_db_pwd\r\n",
    "import psycopg2\r\n",
    "from psycopg2.extensions import ISOLATION_LEVEL_AUTOCOMMIT"
   ],
   "outputs": [],
   "metadata": {}
  },
  {
   "cell_type": "markdown",
   "source": [
    "# <center> Read the San Diego County Crime Data CSV file </center>"
   ],
   "metadata": {}
  },
  {
   "cell_type": "code",
   "execution_count": 3,
   "source": [
    "crime_data1 = \"Data/SanDiegoCrimeData1.csv\"\r\n",
    "crime_data1_df = pd.read_csv(crime_data1)\r\n",
    "crime_data1_df[\"date\"] = pd.to_datetime(crime_data1_df[\"date\"])\r\n",
    "crime_data1_df.dtypes"
   ],
   "outputs": [
    {
     "output_type": "execute_result",
     "data": {
      "text/plain": [
       "crime                         object\n",
       "agency                        object\n",
       "charge_description            object\n",
       "date                  datetime64[ns]\n",
       "address                       object\n",
       "zipcode                      float64\n",
       "city                          object\n",
       "type                          object\n",
       "dtype: object"
      ]
     },
     "metadata": {},
     "execution_count": 3
    }
   ],
   "metadata": {}
  },
  {
   "cell_type": "code",
   "execution_count": 4,
   "source": [
    "cloud_engine = create_engine(f\"postgresql://{remote_db_user}:{remote_db_pwd}@{remote_db_endpoint}:{remote_db_port}/{remote_db_name}\")\r\n",
    "cloud_conn = cloud_engine.connect()\r\n",
    "crime_data1_df.to_sql('crime_data', con=cloud_conn, if_exists='append', index=False)"
   ],
   "outputs": [],
   "metadata": {}
  },
  {
   "cell_type": "code",
   "execution_count": 5,
   "source": [
    "crime_data2 = \"Data/SanDiegoCrimeData2.csv\"\r\n",
    "crime_data2_df = pd.read_csv(crime_data2)\r\n",
    "crime_data2_df[\"date\"] = pd.to_datetime(crime_data2_df[\"date\"])\r\n",
    "crime_data2_df.dtypes"
   ],
   "outputs": [
    {
     "output_type": "execute_result",
     "data": {
      "text/plain": [
       "crime                         object\n",
       "agency                        object\n",
       "charge_description            object\n",
       "date                  datetime64[ns]\n",
       "address                       object\n",
       "zipcode                      float64\n",
       "city                          object\n",
       "type                          object\n",
       "dtype: object"
      ]
     },
     "metadata": {},
     "execution_count": 5
    }
   ],
   "metadata": {}
  },
  {
   "cell_type": "code",
   "execution_count": 6,
   "source": [
    "cloud_engine = create_engine(f\"postgresql://{remote_db_user}:{remote_db_pwd}@{remote_db_endpoint}:{remote_db_port}/{remote_db_name}\")\r\n",
    "cloud_conn = cloud_engine.connect()\r\n",
    "crime_data2_df.to_sql('crime_data', con=cloud_conn, if_exists='append', index=False)"
   ],
   "outputs": [],
   "metadata": {}
  },
  {
   "cell_type": "code",
   "execution_count": 7,
   "source": [
    "crime_data3 = \"Data/SanDiegoCrimeData3.csv\"\r\n",
    "crime_data3_df = pd.read_csv(crime_data3)\r\n",
    "crime_data3_df[\"date\"] = pd.to_datetime(crime_data3_df[\"date\"])\r\n",
    "crime_data3_df.dtypes"
   ],
   "outputs": [
    {
     "output_type": "execute_result",
     "data": {
      "text/plain": [
       "crime                         object\n",
       "agency                        object\n",
       "charge_description            object\n",
       "date                  datetime64[ns]\n",
       "address                       object\n",
       "zipcode                      float64\n",
       "city                          object\n",
       "type                          object\n",
       "dtype: object"
      ]
     },
     "metadata": {},
     "execution_count": 7
    }
   ],
   "metadata": {}
  },
  {
   "cell_type": "code",
   "execution_count": 8,
   "source": [
    "cloud_engine = create_engine(f\"postgresql://{remote_db_user}:{remote_db_pwd}@{remote_db_endpoint}:{remote_db_port}/{remote_db_name}\")\r\n",
    "cloud_conn = cloud_engine.connect()\r\n",
    "crime_data3_df.to_sql('crime_data', con=cloud_conn, if_exists='append', index=False)"
   ],
   "outputs": [],
   "metadata": {}
  },
  {
   "cell_type": "code",
   "execution_count": 9,
   "source": [
    "crime_data4 = \"Data/SanDiegoCrimeData4.csv\"\r\n",
    "crime_data4_df = pd.read_csv(crime_data4)\r\n",
    "crime_data4_df[\"date\"] = pd.to_datetime(crime_data4_df[\"date\"])\r\n",
    "crime_data4_df.dtypes"
   ],
   "outputs": [
    {
     "output_type": "execute_result",
     "data": {
      "text/plain": [
       "crime                         object\n",
       "agency                        object\n",
       "charge_description            object\n",
       "date                  datetime64[ns]\n",
       "address                       object\n",
       "zipcode                      float64\n",
       "city                          object\n",
       "type                          object\n",
       "dtype: object"
      ]
     },
     "metadata": {},
     "execution_count": 9
    }
   ],
   "metadata": {}
  },
  {
   "cell_type": "code",
   "execution_count": 10,
   "source": [
    "cloud_engine = create_engine(f\"postgresql://{remote_db_user}:{remote_db_pwd}@{remote_db_endpoint}:{remote_db_port}/{remote_db_name}\")\r\n",
    "cloud_conn = cloud_engine.connect()\r\n",
    "crime_data4_df.to_sql('crime_data', con=cloud_conn, if_exists='append', index=False)"
   ],
   "outputs": [],
   "metadata": {}
  },
  {
   "cell_type": "code",
   "execution_count": 11,
   "source": [
    "crime_data5 = \"Data/SanDiegoCrimeData5.csv\"\r\n",
    "crime_data5_df = pd.read_csv(crime_data5)\r\n",
    "crime_data5_df[\"date\"] = pd.to_datetime(crime_data5_df[\"date\"])\r\n",
    "crime_data5_df.dtypes"
   ],
   "outputs": [
    {
     "output_type": "execute_result",
     "data": {
      "text/plain": [
       "crime                         object\n",
       "agency                        object\n",
       "charge_description            object\n",
       "date                  datetime64[ns]\n",
       "address                       object\n",
       "zipcode                      float64\n",
       "city                          object\n",
       "type                          object\n",
       "dtype: object"
      ]
     },
     "metadata": {},
     "execution_count": 11
    }
   ],
   "metadata": {}
  },
  {
   "cell_type": "code",
   "execution_count": 12,
   "source": [
    "cloud_engine = create_engine(f\"postgresql://{remote_db_user}:{remote_db_pwd}@{remote_db_endpoint}:{remote_db_port}/{remote_db_name}\")\r\n",
    "cloud_conn = cloud_engine.connect()\r\n",
    "crime_data5_df.to_sql('crime_data', con=cloud_conn, if_exists='append', index=False)"
   ],
   "outputs": [],
   "metadata": {}
  },
  {
   "cell_type": "code",
   "execution_count": 13,
   "source": [
    "crime_data6 = \"Data/SanDiegoCrimeData6.csv\"\r\n",
    "crime_data6_df = pd.read_csv(crime_data6)\r\n",
    "crime_data6_df[\"date\"] = pd.to_datetime(crime_data6_df[\"date\"])\r\n",
    "crime_data6_df.dtypes"
   ],
   "outputs": [
    {
     "output_type": "execute_result",
     "data": {
      "text/plain": [
       "crime                         object\n",
       "agency                        object\n",
       "charge_description            object\n",
       "date                  datetime64[ns]\n",
       "address                       object\n",
       "zipcode                      float64\n",
       "city                          object\n",
       "type                          object\n",
       "dtype: object"
      ]
     },
     "metadata": {},
     "execution_count": 13
    }
   ],
   "metadata": {}
  },
  {
   "cell_type": "code",
   "execution_count": 14,
   "source": [
    "cloud_engine = create_engine(f\"postgresql://{remote_db_user}:{remote_db_pwd}@{remote_db_endpoint}:{remote_db_port}/{remote_db_name}\")\r\n",
    "cloud_conn = cloud_engine.connect()\r\n",
    "crime_data6_df.to_sql('crime_data', con=cloud_conn, if_exists='append', index=False)"
   ],
   "outputs": [],
   "metadata": {}
  },
  {
   "cell_type": "code",
   "execution_count": 15,
   "source": [
    "crime_data7 = \"Data/SanDiegoCrimeData7.csv\"\r\n",
    "crime_data7_df = pd.read_csv(crime_data7)\r\n",
    "crime_data7_df[\"date\"] = pd.to_datetime(crime_data7_df[\"date\"])\r\n",
    "crime_data7_df.dtypes"
   ],
   "outputs": [
    {
     "output_type": "execute_result",
     "data": {
      "text/plain": [
       "crime                         object\n",
       "agency                        object\n",
       "charge_description            object\n",
       "date                  datetime64[ns]\n",
       "address                       object\n",
       "zipcode                      float64\n",
       "city                          object\n",
       "type                          object\n",
       "dtype: object"
      ]
     },
     "metadata": {},
     "execution_count": 15
    }
   ],
   "metadata": {}
  },
  {
   "cell_type": "code",
   "execution_count": 16,
   "source": [
    "cloud_engine = create_engine(f\"postgresql://{remote_db_user}:{remote_db_pwd}@{remote_db_endpoint}:{remote_db_port}/{remote_db_name}\")\r\n",
    "cloud_conn = cloud_engine.connect()\r\n",
    "crime_data7_df.to_sql('crime_data', con=cloud_conn, if_exists='append', index=False)"
   ],
   "outputs": [],
   "metadata": {}
  },
  {
   "cell_type": "code",
   "execution_count": 17,
   "source": [
    "crime_data8 = \"Data/SanDiegoCrimeData8.csv\"\r\n",
    "crime_data8_df = pd.read_csv(crime_data8)\r\n",
    "crime_data8_df[\"date\"] = pd.to_datetime(crime_data8_df[\"date\"])\r\n",
    "crime_data8_df.dtypes"
   ],
   "outputs": [
    {
     "output_type": "execute_result",
     "data": {
      "text/plain": [
       "crime                         object\n",
       "agency                        object\n",
       "charge_description            object\n",
       "date                  datetime64[ns]\n",
       "address                       object\n",
       "zipcode                      float64\n",
       "city                          object\n",
       "type                          object\n",
       "dtype: object"
      ]
     },
     "metadata": {},
     "execution_count": 17
    }
   ],
   "metadata": {}
  },
  {
   "cell_type": "code",
   "execution_count": 18,
   "source": [
    "cloud_engine = create_engine(f\"postgresql://{remote_db_user}:{remote_db_pwd}@{remote_db_endpoint}:{remote_db_port}/{remote_db_name}\")\r\n",
    "cloud_conn = cloud_engine.connect()\r\n",
    "crime_data8_df.to_sql('crime_data', con=cloud_conn, if_exists='append', index=False)"
   ],
   "outputs": [],
   "metadata": {}
  },
  {
   "cell_type": "code",
   "execution_count": 19,
   "source": [
    "geometric_data = \"Data/Zipcode_latlong.csv\"\r\n",
    "geometric_data_df = pd.read_csv(geometric_data)\r\n",
    "geometric_data_df.dtypes"
   ],
   "outputs": [
    {
     "output_type": "execute_result",
     "data": {
      "text/plain": [
       "longitude    float64\n",
       "latitude     float64\n",
       "zipcode        int64\n",
       "dtype: object"
      ]
     },
     "metadata": {},
     "execution_count": 19
    }
   ],
   "metadata": {}
  },
  {
   "cell_type": "code",
   "execution_count": 20,
   "source": [
    "cloud_engine = create_engine(f\"postgresql://{remote_db_user}:{remote_db_pwd}@{remote_db_endpoint}:{remote_db_port}/{remote_db_name}\")\r\n",
    "cloud_conn = cloud_engine.connect()\r\n",
    "geometric_data_df.to_sql('geometrical_data', con=cloud_conn, if_exists='append', index=False)"
   ],
   "outputs": [],
   "metadata": {}
  }
 ],
 "metadata": {
  "orig_nbformat": 4,
  "language_info": {
   "name": "python",
   "version": "3.6.10",
   "mimetype": "text/x-python",
   "codemirror_mode": {
    "name": "ipython",
    "version": 3
   },
   "pygments_lexer": "ipython3",
   "nbconvert_exporter": "python",
   "file_extension": ".py"
  },
  "kernelspec": {
   "name": "python3",
   "display_name": "Python 3.6.10 64-bit ('PythonData2': conda)"
  },
  "interpreter": {
   "hash": "e0b418b09ac47957412e0b1b3ad755156e145bf5e9f3a21911cb1dcef404ebf8"
  }
 },
 "nbformat": 4,
 "nbformat_minor": 2
}